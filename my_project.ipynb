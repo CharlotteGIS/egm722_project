{
 "cells": [
  {
   "cell_type": "markdown",
   "id": "2952f082",
   "metadata": {},
   "source": [
    "## import libraries"
   ]
  },
  {
   "cell_type": "code",
   "execution_count": 512,
   "id": "45ba90cb",
   "metadata": {},
   "outputs": [],
   "source": [
    "import geopandas as gpd\n",
    "import matplotlib.pyplot as plt\n",
    "from mpl_toolkits.axes_grid1 import make_axes_locatable\n",
    "import matplotlib.patches as mpatches\n",
    "import cartopy.crs as ccrs\n",
    "import pandas as pd\n",
    "import geopandas as gpd\n",
    "import osmnx\n",
    "from scipy.stats import zscore\n"
   ]
  },
  {
   "cell_type": "code",
   "execution_count": 513,
   "id": "340e4348",
   "metadata": {},
   "outputs": [
    {
     "data": {
      "text/plain": [
       "<contextlib.ExitStack at 0x2d8b9882a50>"
      ]
     },
     "execution_count": 513,
     "metadata": {},
     "output_type": "execute_result"
    }
   ],
   "source": [
    "#make plot interactive\n",
    "plt.ion()"
   ]
  },
  {
   "cell_type": "markdown",
   "id": "a0a3cb22",
   "metadata": {},
   "source": [
    "# 1)  Social Indicator"
   ]
  },
  {
   "cell_type": "markdown",
   "id": "587e525f",
   "metadata": {},
   "source": [
    "### Load & clean data "
   ]
  },
  {
   "cell_type": "code",
   "execution_count": 514,
   "id": "3688b3d4",
   "metadata": {},
   "outputs": [],
   "source": [
    "# load the necessary data here \n",
    "admin = gpd.read_file(\"C:/Users/charl/OneDrive/Desktop/ulster/EGM722_programming/git/egm722_project/data/Stadtteile_Hamburg.shp\")\n",
    "stats = pd.read_csv(\"C:/Users/charl/OneDrive/Desktop/ulster/EGM722_programming/git/egm722_project/data/statistics_HH21.csv\",encoding=\"Latin-1\", delimiter=\";\",decimal=\".\" )\n",
    "#admin\n",
    "#print(stats.head())"
   ]
  },
  {
   "cell_type": "code",
   "execution_count": 516,
   "id": "f59743ce",
   "metadata": {},
   "outputs": [],
   "source": [
    "#rename columns\n",
    "stats.columns = ['district','inhabitants', 'pop<18','%<18', 'pop>65y','%>65', 'foreignResidents', 'migration_backg', 'hh','pp_size','hh_kids', '%hh_kids','areakm2', 'pop_density','working_pop', '%working_pop', 'unemployed','%unemployed','unemployed<18','%unemployed<18', 'unemployed>65', '%unemployed>65','social_benefits', '%social_benefits','social_housing', '%social_housing']\n",
    "#stats\n"
   ]
  },
  {
   "cell_type": "code",
   "execution_count": 517,
   "id": "4f9339e3",
   "metadata": {},
   "outputs": [],
   "source": [
    "#joined population data with shapefile of admin boundaries and dropped additional columns in the admin dataset\n",
    "admin_pop = pd.merge(admin,stats, left_on='stadtteil_', right_on='district', how = 'inner')\n",
    "\n",
    "admin_pop.drop(columns=['OBJECTID','bezirk', 'stadttei_1', 'foreignResidents', 'migration_backg','pop<18' ],axis=1, inplace=True)\n",
    "\n",
    "#admin_pop\n",
    "#fig, ax = plt.subplots(figsize=(24, 18))\n",
    "#admin_pop.plot(ax=ax, alpha=1,linewidth=2, facecolor=\"none\")"
   ]
  },
  {
   "cell_type": "code",
   "execution_count": null,
   "id": "9b02893f",
   "metadata": {},
   "outputs": [],
   "source": [
    "admin_pop.isnull().mean() * 100\n",
    "admin_pop.dropna(subset=['%unemployed','%social_benefits','%social_housing','%unemployed>65' ], inplace=True)\n",
    "\n",
    "#admin_pop.dropna(inplace=True)\n",
    "#admin_pop.plot()\n",
    "admin_pop"
   ]
  },
  {
   "cell_type": "code",
   "execution_count": null,
   "id": "7f012b53",
   "metadata": {},
   "outputs": [],
   "source": [
    "# this line of code first subsets the dataframe so that only the columns relevant to the further anylsis (social status) are maintained\n",
    "#this euqally makes sure to avoid non numeric values for normalization later on\n",
    "#and calculates standard deviation to inform about the distribution\n",
    "social_stats = admin_pop[['%unemployed','%social_benefits','%social_housing','%unemployed>65' ]]#std()\n",
    "\n",
    "social_stats.hist()\n",
    "social_stats.std()"
   ]
  },
  {
   "cell_type": "code",
   "execution_count": 511,
   "id": "d75512c7",
   "metadata": {},
   "outputs": [
    {
     "name": "stdout",
     "output_type": "stream",
     "text": [
      "%unemployed         1.006309\n",
      "%social_benefits    1.006309\n",
      "%social_housing     1.006309\n",
      "%unemployed>65      1.006309\n",
      "dtype: float64\n"
     ]
    }
   ],
   "source": [
    "#Uses the scipy Library in Python to calculate the z-score which helps to standardizes the values each column \n",
    "\n",
    "z_scores_admin_pop = admin_pop[['%unemployed','%social_benefits','%social_housing','%unemployed>65']].apply(zscore)\n",
    "\n",
    "print(z_scores_admin_pop.std())"
   ]
  },
  {
   "cell_type": "code",
   "execution_count": null,
   "id": "670f5b3f",
   "metadata": {},
   "outputs": [],
   "source": [
    "#z_scores_admin_pop"
   ]
  },
  {
   "cell_type": "markdown",
   "id": "8063e586",
   "metadata": {},
   "source": [
    "### Analysis"
   ]
  },
  {
   "cell_type": "code",
   "execution_count": null,
   "id": "b2c7443e",
   "metadata": {},
   "outputs": [],
   "source": [
    "# calculates the mean of the columns\n",
    "mean_socstats = z_scores_admin_pop[['%unemployed','%social_benefits','%social_housing','%unemployed>65', ]].mean(axis=1)\n",
    "z_scores_admin_pop['mean_socstats'] = mean_socstats\n"
   ]
  },
  {
   "cell_type": "code",
   "execution_count": null,
   "id": "b317679e",
   "metadata": {},
   "outputs": [],
   "source": [
    "#groups / classifies the results into percentile of the respective column (equal quantiles 0 -4 (e.g. 0= lowest 20th quantile of mean / to  - 4 within highest 20th quantil))\n",
    "z_scores_admin_pop ['qt_soc_stats'] = pd.qcut(z_scores_admin_pop ['mean_socstats'],5,labels=[0, 1, 2, 3, 4])\n"
   ]
  },
  {
   "cell_type": "code",
   "execution_count": null,
   "id": "88096940",
   "metadata": {},
   "outputs": [],
   "source": [
    "# add text descripzion as an additional column\n",
    "z_scores_admin_pop['status'] = ['very low' if x == 0 else\n",
    "                       'low' if x == 1 else\n",
    "                       'medium' if x == 2 else\n",
    "                       'high' if x == 3 else\n",
    "                       'very high' for x in z_scores_admin_pop['qt_soc_stats']]\n",
    "\n",
    "z_scores_admin_pop.head()"
   ]
  },
  {
   "cell_type": "code",
   "execution_count": null,
   "id": "8a84e34d",
   "metadata": {},
   "outputs": [],
   "source": [
    "#merge the 2 frames to be able to plot the data later on\n",
    "admin_socstats = pd.merge(admin_pop, z_scores_admin_pop, left_index=True, right_index=True)\n",
    "admin_socstats.head()"
   ]
  },
  {
   "cell_type": "code",
   "execution_count": null,
   "id": "733c9131",
   "metadata": {},
   "outputs": [],
   "source": [
    "#save the final data set to cvs"
   ]
  },
  {
   "cell_type": "markdown",
   "id": "6680f29e",
   "metadata": {},
   "source": [
    "### VISUALIZATION"
   ]
  },
  {
   "cell_type": "code",
   "execution_count": 519,
   "id": "56bf3c70",
   "metadata": {},
   "outputs": [
    {
     "data": {
      "text/plain": [
       "<Axes: >"
      ]
     },
     "execution_count": 519,
     "metadata": {},
     "output_type": "execute_result"
    },
    {
     "data": {
      "image/png": "[encoded data removed]",
      "text/plain": [
       "<Figure size 640x480 with 1 Axes>"
      ]
     },
     "metadata": {},
     "output_type": "display_data"
    }
   ],
   "source": [
    "#plot output\n",
    "admin_socstats.plot(\"status\", cmap=\"Reds\", legend=True)  "
   ]
  },
  {
   "cell_type": "code",
   "execution_count": null,
   "id": "ef529349-a797-449b-85e4-eb4952f96cfd",
   "metadata": {},
   "outputs": [],
   "source": []
  },
  {
   "cell_type": "markdown",
   "id": "68f41edc",
   "metadata": {},
   "source": [
    "# 2) Environmental Indicators\n",
    "uses noise, green areas (air pollution?, surface temperature? as indicator)"
   ]
  },
  {
   "cell_type": "code",
   "execution_count": null,
   "id": "02b6197b",
   "metadata": {},
   "outputs": [],
   "source": []
  },
  {
   "cell_type": "code",
   "execution_count": 502,
   "id": "3c58faff-b462-4da8-9f4b-a08dee3c85f0",
   "metadata": {},
   "outputs": [],
   "source": [
    "#load the data\n",
    "noise = gpd.read_file(\"C:/Users/charl/OneDrive/Desktop/ulster/EGM722_programming/git/egm722_project/data/Laermkarten_HH_2018-11-19.shp\")\n",
    "buildings = gpd.read_file(\"C:/Users/charl/OneDrive/Desktop/ulster/EGM722_programming/git/egm722_project/data/Gebaeude_Hamburg.shp\")\n",
    "green_areas = gpd.read_file(\"C:/Users/charl/OneDrive/Desktop/ulster/EGM722_programming/git/egm722_project/data/Oeffentliche_Gruenanlage_Hamburg.shp\")"
   ]
  },
  {
   "cell_type": "code",
   "execution_count": 518,
   "id": "bdd4246d",
   "metadata": {},
   "outputs": [
    {
     "name": "stdout",
     "output_type": "stream",
     "text": [
      "Original CRS: EPSG:3857\n",
      "Reprojected CRS: EPSG:25832\n",
      "Original CRS: EPSG:25832\n",
      "Reprojected CRS: EPSG:25832\n",
      "Original CRS: EPSG:3857\n",
      "Reprojected CRS: EPSG:25832\n",
      "Original CRS: EPSG:3857\n",
      "Reprojected CRS: EPSG:25832\n"
     ]
    }
   ],
   "source": [
    "# function to checks crs of different layers and reproject to epgs:Hamburg, GE to prepare for joining later on EPSG:25832\n",
    "def reproject_to_local_epsg(gdf):\n",
    "    # Check the CRS of the input GeoDataFrame\n",
    "    print('Original CRS:', gdf.crs)\n",
    "\n",
    "    # Reproject the GeoDataFrame to EPSG 25832\n",
    "    gdf_reproj = gdf.to_crs(epsg=25832)\n",
    "\n",
    "    # Check the CRS of the output GeoDataFrame\n",
    "    print('Reprojected CRS:', gdf_reproj.crs)\n",
    "\n",
    "    return gdf_reproj\n",
    "\n",
    "# apply function\n",
    "admin_pop_reproj = reproject_to_local_epsg(admin_pop)\n",
    "noise_reproj = reproject_to_local_epsg(noise)\n",
    "housing_reproj = reproject_to_local_epsg(housing)\n",
    "green_areas_reproj = reproject_to_local_epsg(green_areas)\n"
   ]
  },
  {
   "cell_type": "markdown",
   "id": "68bf0cf7",
   "metadata": {},
   "source": [
    "### Green areas "
   ]
  },
  {
   "cell_type": "code",
   "execution_count": 504,
   "id": "d16df94c",
   "metadata": {},
   "outputs": [
    {
     "data": {
      "text/plain": [
       "Index(['OBJECTID', 'quelle_dat', 'idnr', 'dgpkey', 'benennung', 'belegenhei',\n",
       "       'belegenh_1', 'gesamtanla', 'gesamtan_1', 'nutz_code', 'nutzung',\n",
       "       'bezirk', 'stadtteil', 'ortsteil', 'gemarkung', 'veroeffent',\n",
       "       'herrichtun', 'verwaltung', 'aktualitae', 'flaeche_ha', 'flaeche_qm',\n",
       "       'stand', 'SHAPE_Leng', 'SHAPE_Area', 'geometry'],\n",
       "      dtype='object')"
      ]
     },
     "execution_count": 504,
     "metadata": {},
     "output_type": "execute_result"
    }
   ],
   "source": [
    "#green_areas_reproj\n",
    "green_areas_reproj.columns"
   ]
  },
  {
   "cell_type": "code",
   "execution_count": 505,
   "id": "fc9dce03",
   "metadata": {},
   "outputs": [
    {
     "data": {
      "text/html": [
       "<div>\n",
       "<style scoped>\n",
       "    .dataframe tbody tr th:only-of-type {\n",
       "        vertical-align: middle;\n",
       "    }\n",
       "\n",
       "    .dataframe tbody tr th {\n",
       "        vertical-align: top;\n",
       "    }\n",
       "\n",
       "    .dataframe thead th {\n",
       "        text-align: right;\n",
       "    }\n",
       "</style>\n",
       "<table border=\"1\" class=\"dataframe\">\n",
       "  <thead>\n",
       "    <tr style=\"text-align: right;\">\n",
       "      <th></th>\n",
       "      <th>OBJECTID</th>\n",
       "      <th>dgpkey</th>\n",
       "      <th>benennung</th>\n",
       "      <th>gesamtan_1</th>\n",
       "      <th>nutz_code</th>\n",
       "      <th>nutzung</th>\n",
       "      <th>bezirk</th>\n",
       "      <th>stadtteil</th>\n",
       "      <th>ortsteil</th>\n",
       "      <th>gemarkung</th>\n",
       "      <th>verwaltung</th>\n",
       "      <th>flaeche_ha</th>\n",
       "      <th>flaeche_qm</th>\n",
       "      <th>stand</th>\n",
       "      <th>SHAPE_Leng</th>\n",
       "      <th>SHAPE_Area</th>\n",
       "      <th>geometry</th>\n",
       "    </tr>\n",
       "  </thead>\n",
       "  <tbody>\n",
       "    <tr>\n",
       "      <th>0</th>\n",
       "      <td>1</td>\n",
       "      <td>51580005</td>\n",
       "      <td>NaN</td>\n",
       "      <td>Schutz-Straßenbegleitgrün Rev 3</td>\n",
       "      <td>80</td>\n",
       "      <td>Schutzgrün</td>\n",
       "      <td>Wandsbek</td>\n",
       "      <td>Bramfeld</td>\n",
       "      <td>515</td>\n",
       "      <td>546</td>\n",
       "      <td>Stadtgrün</td>\n",
       "      <td>1.3090</td>\n",
       "      <td>13090</td>\n",
       "      <td>2021-02-16</td>\n",
       "      <td>1813.268251</td>\n",
       "      <td>37135.153073</td>\n",
       "      <td>POLYGON ((571682.385 5940442.628, 571927.493 5...</td>\n",
       "    </tr>\n",
       "    <tr>\n",
       "      <th>1</th>\n",
       "      <td>2</td>\n",
       "      <td>51550113</td>\n",
       "      <td>NaN</td>\n",
       "      <td>Osterbekoberlauf</td>\n",
       "      <td>50</td>\n",
       "      <td>Parkanlage</td>\n",
       "      <td>Wandsbek</td>\n",
       "      <td>Bramfeld</td>\n",
       "      <td>515</td>\n",
       "      <td>546</td>\n",
       "      <td>Stadtgrün</td>\n",
       "      <td>0.4478</td>\n",
       "      <td>4478</td>\n",
       "      <td>2021-02-16</td>\n",
       "      <td>920.409622</td>\n",
       "      <td>12697.549886</td>\n",
       "      <td>POLYGON ((572254.058 5939481.930, 572254.220 5...</td>\n",
       "    </tr>\n",
       "    <tr>\n",
       "      <th>2</th>\n",
       "      <td>3</td>\n",
       "      <td>52650280</td>\n",
       "      <td>NaN</td>\n",
       "      <td>Stellau Grün</td>\n",
       "      <td>50</td>\n",
       "      <td>Parkanlage</td>\n",
       "      <td>Wandsbek</td>\n",
       "      <td>Rahlstedt</td>\n",
       "      <td>526</td>\n",
       "      <td>544</td>\n",
       "      <td>Stadtgrün</td>\n",
       "      <td>0.2839</td>\n",
       "      <td>2839</td>\n",
       "      <td>2021-02-16</td>\n",
       "      <td>637.414887</td>\n",
       "      <td>8047.566252</td>\n",
       "      <td>POLYGON ((577689.808 5938869.601, 577701.406 5...</td>\n",
       "    </tr>\n",
       "    <tr>\n",
       "      <th>3</th>\n",
       "      <td>4</td>\n",
       "      <td>52650280</td>\n",
       "      <td>NaN</td>\n",
       "      <td>Stellau Grün</td>\n",
       "      <td>50</td>\n",
       "      <td>Parkanlage</td>\n",
       "      <td>Wandsbek</td>\n",
       "      <td>Rahlstedt</td>\n",
       "      <td>526</td>\n",
       "      <td>544</td>\n",
       "      <td>Stadtgrün</td>\n",
       "      <td>0.0746</td>\n",
       "      <td>746</td>\n",
       "      <td>2021-02-16</td>\n",
       "      <td>185.305657</td>\n",
       "      <td>2116.281875</td>\n",
       "      <td>POLYGON ((577695.717 5938789.061, 577671.599 5...</td>\n",
       "    </tr>\n",
       "    <tr>\n",
       "      <th>4</th>\n",
       "      <td>5</td>\n",
       "      <td>50950039</td>\n",
       "      <td>NaN</td>\n",
       "      <td>Gartenstadt</td>\n",
       "      <td>50</td>\n",
       "      <td>Parkanlage</td>\n",
       "      <td>Wandsbek</td>\n",
       "      <td>Wandsbek</td>\n",
       "      <td>509</td>\n",
       "      <td>552</td>\n",
       "      <td>AGV</td>\n",
       "      <td>0.0356</td>\n",
       "      <td>356</td>\n",
       "      <td>2021-02-16</td>\n",
       "      <td>252.935327</td>\n",
       "      <td>1008.046963</td>\n",
       "      <td>POLYGON ((571054.670 5938638.040, 571054.878 5...</td>\n",
       "    </tr>\n",
       "  </tbody>\n",
       "</table>\n",
       "</div>"
      ],
      "text/plain": [
       "   OBJECTID    dgpkey benennung                       gesamtan_1 nutz_code   \n",
       "0         1  51580005       NaN  Schutz-Straßenbegleitgrün Rev 3        80  \\\n",
       "1         2  51550113       NaN                 Osterbekoberlauf        50   \n",
       "2         3  52650280       NaN                     Stellau Grün        50   \n",
       "3         4  52650280       NaN                     Stellau Grün        50   \n",
       "4         5  50950039       NaN                      Gartenstadt        50   \n",
       "\n",
       "      nutzung    bezirk  stadtteil ortsteil gemarkung verwaltung  flaeche_ha   \n",
       "0  Schutzgrün  Wandsbek   Bramfeld      515       546  Stadtgrün      1.3090  \\\n",
       "1  Parkanlage  Wandsbek   Bramfeld      515       546  Stadtgrün      0.4478   \n",
       "2  Parkanlage  Wandsbek  Rahlstedt      526       544  Stadtgrün      0.2839   \n",
       "3  Parkanlage  Wandsbek  Rahlstedt      526       544  Stadtgrün      0.0746   \n",
       "4  Parkanlage  Wandsbek   Wandsbek      509       552        AGV      0.0356   \n",
       "\n",
       "  flaeche_qm       stand   SHAPE_Leng    SHAPE_Area   \n",
       "0      13090  2021-02-16  1813.268251  37135.153073  \\\n",
       "1       4478  2021-02-16   920.409622  12697.549886   \n",
       "2       2839  2021-02-16   637.414887   8047.566252   \n",
       "3        746  2021-02-16   185.305657   2116.281875   \n",
       "4        356  2021-02-16   252.935327   1008.046963   \n",
       "\n",
       "                                            geometry  \n",
       "0  POLYGON ((571682.385 5940442.628, 571927.493 5...  \n",
       "1  POLYGON ((572254.058 5939481.930, 572254.220 5...  \n",
       "2  POLYGON ((577689.808 5938869.601, 577701.406 5...  \n",
       "3  POLYGON ((577695.717 5938789.061, 577671.599 5...  \n",
       "4  POLYGON ((571054.670 5938638.040, 571054.878 5...  "
      ]
     },
     "execution_count": 505,
     "metadata": {},
     "output_type": "execute_result"
    }
   ],
   "source": [
    "#for green areas delete the values with code 10 - playground according to Alkis key and drop some of the unimportant columns\n",
    "green_areas_reproj = green_areas_reproj[green_areas_reproj.nutzung != 10]\n",
    "green_areas_reproj.drop(columns=['veroeffent','herrichtun', 'gesamtanla','aktualitae','idnr','belegenh_1','belegenhei','quelle_dat'],axis=1, inplace=True)\n",
    "\n",
    "green_areas_reproj.head()"
   ]
  },
  {
   "cell_type": "code",
   "execution_count": null,
   "id": "b0dc7abe",
   "metadata": {},
   "outputs": [],
   "source": []
  },
  {
   "cell_type": "code",
   "execution_count": 506,
   "id": "9b1222e4",
   "metadata": {},
   "outputs": [],
   "source": [
    "# amend the data set by including forested areas from Open Street Map \n",
    "\n",
    "\n"
   ]
  },
  {
   "cell_type": "code",
   "execution_count": 507,
   "id": "7e69bc39",
   "metadata": {},
   "outputs": [],
   "source": [
    "# intersect OSM with green area data set"
   ]
  },
  {
   "cell_type": "code",
   "execution_count": 508,
   "id": "b74fbbf2",
   "metadata": {},
   "outputs": [
    {
     "data": {
      "text/plain": [
       "stadtteil\n",
       "Allermöhe              7\n",
       "Alsterdorf             6\n",
       "Altengamme             0\n",
       "Altona-Altstadt       37\n",
       "Altona-Nord            1\n",
       "                    ... \n",
       "Wellingsbüttel         2\n",
       "Wilhelmsburg         105\n",
       "Wilstorf              13\n",
       "Winterhude            52\n",
       "Wohldorf-Ohlstedt      4\n",
       "Name: benennung, Length: 96, dtype: int64"
      ]
     },
     "execution_count": 508,
     "metadata": {},
     "output_type": "execute_result"
    }
   ],
   "source": [
    "#calculates area statistics of green spaces / district = stadtteil 2. calculate area / inhabitants\n",
    "green_areas_reproj.groupby(['stadtteil'])['flaeche_ha'].sum() # sum of area in ha\n",
    "green_areas_reproj.groupby(['stadtteil'])['flaeche_ha'].mean() # mean area in ha\n",
    "green_areas_reproj.groupby(['stadtteil'])['benennung'].count()  # bennenung: counts  of grean areas per district\n"
   ]
  },
  {
   "cell_type": "code",
   "execution_count": 509,
   "id": "dafe1225",
   "metadata": {},
   "outputs": [],
   "source": [
    "#2. calculate green area / inhabitants -- for that add some of the colums from admin data to green areas data set???\n",
    "#green_areas_reproj['green_per_inhabitant']=green_areas_reproj.groupby(['stadtteil'])['flaeche_ha'] / ###\n",
    "#green_areas_reproj['inhabitants']\n",
    "\n",
    "\n"
   ]
  },
  {
   "cell_type": "code",
   "execution_count": 510,
   "id": "c052d820",
   "metadata": {},
   "outputs": [],
   "source": [
    "#dissolve and add colums to data \n",
    "#add stats to data set to plot later"
   ]
  },
  {
   "cell_type": "code",
   "execution_count": null,
   "id": "f0fa1c74",
   "metadata": {},
   "outputs": [],
   "source": []
  },
  {
   "cell_type": "code",
   "execution_count": null,
   "id": "8dbcae68",
   "metadata": {},
   "outputs": [],
   "source": []
  },
  {
   "cell_type": "code",
   "execution_count": null,
   "id": "99137443",
   "metadata": {},
   "outputs": [],
   "source": []
  },
  {
   "cell_type": "code",
   "execution_count": null,
   "id": "a0cee766",
   "metadata": {},
   "outputs": [],
   "source": []
  },
  {
   "cell_type": "code",
   "execution_count": null,
   "id": "94c4b2e8",
   "metadata": {},
   "outputs": [],
   "source": []
  }
 ],
 "metadata": {
  "kernelspec": {
   "display_name": "Python 3 (ipykernel)",
   "language": "python",
   "name": "python3"
  },
  "language_info": {
   "codemirror_mode": {
    "name": "ipython",
    "version": 3
   },
   "file_extension": ".py",
   "mimetype": "text/x-python",
   "name": "python",
   "nbconvert_exporter": "python",
   "pygments_lexer": "ipython3",
   "version": "3.11.3"
  }
 },
 "nbformat": 4,
 "nbformat_minor": 5
}
