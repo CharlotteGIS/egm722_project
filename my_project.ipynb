{
 "cells": [
  {
   "cell_type": "markdown",
   "id": "2952f082",
   "metadata": {},
   "source": [
    "## import libraries"
   ]
  },
  {
   "cell_type": "code",
   "execution_count": null,
   "id": "45ba90cb",
   "metadata": {},
   "outputs": [],
   "source": [
    "import geopandas as gpd\n",
    "import matplotlib.pyplot as plt\n",
    "from mpl_toolkits.axes_grid1 import make_axes_locatable\n",
    "import matplotlib.patches as mpatches\n",
    "import cartopy.crs as ccrs\n",
    "import pandas as pd\n",
    "import geopandas as gpd\n",
    "import osmnx\n",
    "from scipy.stats import zscore"
   ]
  },
  {
   "cell_type": "code",
   "execution_count": null,
   "id": "340e4348",
   "metadata": {},
   "outputs": [],
   "source": [
    "#make plot interactive\n",
    "plt.ion()"
   ]
  },
  {
   "cell_type": "markdown",
   "id": "a0a3cb22",
   "metadata": {},
   "source": [
    "# 1)  Social Indicator"
   ]
  },
  {
   "cell_type": "markdown",
   "id": "587e525f",
   "metadata": {},
   "source": [
    "### Load & clean data "
   ]
  },
  {
   "cell_type": "code",
   "execution_count": null,
   "id": "3688b3d4",
   "metadata": {},
   "outputs": [],
   "source": [
    "# load the necessary data here \n",
    "admin = gpd.read_file(\"C:/Users/charl/OneDrive/Desktop/ulster/EGM722_programming/git/egm722_project/data/Stadtteile_Hamburg.shp\")\n",
    "stats = pd.read_csv(\"C:/Users/charl/OneDrive/Desktop/ulster/EGM722_programming/git/egm722_project/data/statistics_HH21.csv\",encoding=\"utf-8\", delimiter=\";\",decimal=\".\" )\n",
    "#admin\n",
    "#print(stats.head())"
   ]
  },
  {
   "cell_type": "code",
   "execution_count": null,
   "id": "f59743ce",
   "metadata": {},
   "outputs": [],
   "source": [
    "#rename columns\n",
    "stats.columns = ['district','inhabitants', 'pop<18','%<18', 'pop>65y','%>65', 'foreignResidents', 'migration_backg', 'hh','pp_size','hh_kids', '%hh_kids','areakm2', 'pop_density','working_pop', '%working_pop', 'unemployed','%unemployed','unemployed<18','%unemployed<18', 'unemployed>65', '%unemployed>65','social_benefits', '%social_benefits','social_housing', '%social_housing']\n",
    "#stats\n"
   ]
  },
  {
   "cell_type": "code",
   "execution_count": null,
   "id": "4f9339e3",
   "metadata": {},
   "outputs": [],
   "source": [
    "#joined population data with shapefile of admin boundaries and dropped additional columns in the admin dataset\n",
    "admin_pop = pd.merge(admin,stats, left_on='stadtteil_', right_on='district', how = 'inner')\n",
    "\n",
    "admin_pop.drop(columns=['OBJECTID','bezirk', 'stadttei_1', 'stadttei_2','pp_size', '%<18', 'hh','foreignResidents', 'migration_backg','pop<18','hh_kids', '%hh_kids', 'pop>65y', 'unemployed<18', ],axis=1, inplace=True)\n",
    "\n",
    "#admin_pop\n",
    "#fig, ax = plt.subplots(figsize=(24, 18))\n",
    "#admin_pop.plot(ax=ax, alpha=1,linewidth=2, facecolor=\"none\")"
   ]
  },
  {
   "cell_type": "code",
   "execution_count": null,
   "id": "9b02893f",
   "metadata": {},
   "outputs": [],
   "source": [
    "# check the number of null values and drop the null values in the colums used for calculation of social status\n",
    "admin_pop.isnull().mean() * 100\n",
    "admin_pop.dropna(subset=['%unemployed','%social_benefits','%social_housing','%unemployed>65' ], inplace=True)\n",
    "\n",
    "#admin_pop.dropna(inplace=True)\n",
    "#admin_pop.plot()\n",
    "admin_pop.head()"
   ]
  },
  {
   "cell_type": "code",
   "execution_count": null,
   "id": "7f012b53",
   "metadata": {},
   "outputs": [],
   "source": [
    "# this line of code first subsets the dataframe so that only numeric columns relevant to the further anylsis (social status) are maintained\n",
    "# code than checks standard deviation \n",
    "social_stats = admin_pop[['%unemployed','%social_benefits','%social_housing','%unemployed>65' ]]#std()\n",
    "\n",
    "social_stats.hist()\n",
    "social_stats.std()"
   ]
  },
  {
   "cell_type": "code",
   "execution_count": null,
   "id": "d75512c7",
   "metadata": {},
   "outputs": [],
   "source": [
    "# The scipy Library in Python is used to calculate the z-score which helps to standardize the values for each column \n",
    "\n",
    "z_scores_admin_pop = admin_pop[['%unemployed','%social_benefits','%social_housing','%unemployed>65']].apply(zscore)\n",
    "\n",
    "print(z_scores_admin_pop.std())"
   ]
  },
  {
   "cell_type": "code",
   "execution_count": null,
   "id": "670f5b3f",
   "metadata": {},
   "outputs": [],
   "source": [
    "#z_scores_admin_pop"
   ]
  },
  {
   "cell_type": "markdown",
   "id": "8063e586",
   "metadata": {},
   "source": [
    "### Analysis"
   ]
  },
  {
   "cell_type": "code",
   "execution_count": null,
   "id": "b2c7443e",
   "metadata": {},
   "outputs": [],
   "source": [
    "# calculates the mean of the columns and adds the results to the data frame as new column\n",
    "mean_socstats = z_scores_admin_pop[['%unemployed','%social_benefits','%social_housing','%unemployed>65', ]].mean(axis=1)\n",
    "z_scores_admin_pop['mean_socstats'] = mean_socstats\n"
   ]
  },
  {
   "cell_type": "code",
   "execution_count": null,
   "id": "b317679e",
   "metadata": {},
   "outputs": [],
   "source": [
    "#groups / classifies the results into equal percentiles of the respective column (equal quantiles 0 -4 (e.g. 0= lowest 20th quantile of mean / to  - 4 within highest 20th quantile))\n",
    "#and saves the results to a new column\n",
    "z_scores_admin_pop ['qt_soc_stats'] = pd.qcut(z_scores_admin_pop ['mean_socstats'],5,labels=[0, 1, 2, 3, 4])\n"
   ]
  },
  {
   "cell_type": "code",
   "execution_count": null,
   "id": "4c373587",
   "metadata": {},
   "outputs": [],
   "source": [
    "def add_status_column(df, zscore_mean_column):\n",
    "    df['status'] = ['very low' if x == 0 else\n",
    "                   'low' if x == 1 else\n",
    "                   'medium' if x == 2 else\n",
    "                   'high' if x == 3 else\n",
    "                   'very high' for x in df[zscore_mean_column]]\n",
    "    \n",
    "add_status_column(z_scores_admin_pop, 'qt_soc_stats')\n"
   ]
  },
  {
   "cell_type": "code",
   "execution_count": null,
   "id": "292029e7",
   "metadata": {},
   "outputs": [],
   "source": [
    "#apply function to add status column\n",
    "add_status_column(z_scores_admin_pop, 'qt_soc_stats')"
   ]
  },
  {
   "cell_type": "code",
   "execution_count": null,
   "id": "88096940",
   "metadata": {},
   "outputs": [],
   "source": [
    "z_scores_admin_pop.head()"
   ]
  },
  {
   "cell_type": "code",
   "execution_count": null,
   "id": "8a84e34d",
   "metadata": {},
   "outputs": [],
   "source": [
    "#merges the social statistics computed to the admin data frame to be able to plot the data later on\n",
    "admin_socstats = pd.merge(admin_pop, z_scores_admin_pop, left_index=True, right_index=True)\n",
    "admin_socstats.head()"
   ]
  },
  {
   "cell_type": "code",
   "execution_count": null,
   "id": "733c9131",
   "metadata": {},
   "outputs": [],
   "source": [
    "#save the data frame as csv file\n",
    "#admin_socstats.to_csv(\"./output/social_stats.csv\")"
   ]
  },
  {
   "cell_type": "markdown",
   "id": "6680f29e",
   "metadata": {},
   "source": [
    "### VISUALIZATION"
   ]
  },
  {
   "cell_type": "code",
   "execution_count": null,
   "id": "56bf3c70",
   "metadata": {},
   "outputs": [],
   "source": [
    "#plot output\n",
    "admin_socstats.plot(\"status\", cmap=\"Reds\", legend=True)  "
   ]
  },
  {
   "cell_type": "code",
   "execution_count": null,
   "id": "ef529349-a797-449b-85e4-eb4952f96cfd",
   "metadata": {},
   "outputs": [],
   "source": []
  },
  {
   "cell_type": "markdown",
   "id": "68f41edc",
   "metadata": {},
   "source": [
    "# 2) Environmental Indicators\n",
    "uses noise, green areas, surface temperature? as indicator)"
   ]
  },
  {
   "cell_type": "code",
   "execution_count": null,
   "id": "02b6197b",
   "metadata": {},
   "outputs": [],
   "source": []
  },
  {
   "cell_type": "code",
   "execution_count": null,
   "id": "3c58faff-b462-4da8-9f4b-a08dee3c85f0",
   "metadata": {},
   "outputs": [],
   "source": [
    "#load the data\n",
    "noise = gpd.read_file(\"C:/Users/charl/OneDrive/Desktop/ulster/EGM722_programming/git/egm722_project/data/Laermkarten_HH_2018-11-19.shp\")\n",
    "buildings = gpd.read_file(\"C:/Users/charl/OneDrive/Desktop/ulster/EGM722_programming/git/egm722_project/data/Gebaeude_Hamburg.shp\")\n",
    "green_areas = gpd.read_file(\"C:/Users/charl/OneDrive/Desktop/ulster/EGM722_programming/git/egm722_project/data/Oeffentliche_Gruenanlage_Hamburg.shp\")"
   ]
  },
  {
   "cell_type": "code",
   "execution_count": null,
   "id": "14977c2e",
   "metadata": {},
   "outputs": [],
   "source": []
  },
  {
   "cell_type": "code",
   "execution_count": null,
   "id": "bdd4246d",
   "metadata": {},
   "outputs": [],
   "source": [
    "# function to checks crs of different layers and reproject to epgs:Hamburg, GE to prepare for joining later on EPSG:25832\n",
    "def reproject_to_local_epsg(gdf):\n",
    "    # Check the CRS of the input GeoDataFrame\n",
    "    print('Original CRS:', gdf.crs)\n",
    "\n",
    "    # Reproject the GeoDataFrame to EPSG 25832\n",
    "    gdf_reproj = gdf.to_crs(epsg=25832)\n",
    "\n",
    "    # Check the CRS of the output GeoDataFrame\n",
    "    print('Reprojected CRS:', gdf_reproj.crs)\n",
    "\n",
    "    return gdf_reproj\n",
    "\n",
    "# apply function\n",
    "admin_pop_reproj = reproject_to_local_epsg(admin_pop)\n",
    "noise_reproj = reproject_to_local_epsg(noise)\n",
    "housing_reproj = reproject_to_local_epsg(buildings)\n",
    "green_areas_reproj = reproject_to_local_epsg(green_areas)\n"
   ]
  },
  {
   "cell_type": "markdown",
   "id": "68bf0cf7",
   "metadata": {},
   "source": [
    "### Green areas "
   ]
  },
  {
   "cell_type": "code",
   "execution_count": null,
   "id": "d16df94c",
   "metadata": {},
   "outputs": [],
   "source": [
    "#green_areas_reproj\n",
    "#green_areas_reproj.columns"
   ]
  },
  {
   "cell_type": "code",
   "execution_count": null,
   "id": "fc9dce03",
   "metadata": {},
   "outputs": [],
   "source": [
    "#for green areas delete the values with code 10 - playground according to Alkis key and drop some of the unimportant columns\n",
    "green_areas_reproj = green_areas_reproj[green_areas_reproj.nutzung != 10]\n",
    "green_areas_reproj.drop(columns=['veroeffent', 'nutzung', 'nutz_code' ,'herrichtun', 'gesamtanla','aktualitae','idnr','belegenh_1','belegenhei','quelle_dat', 'stand'],axis=1, inplace=True)\n",
    "\n",
    "green_areas_reproj.head()"
   ]
  },
  {
   "cell_type": "code",
   "execution_count": null,
   "id": "b0dc7abe",
   "metadata": {},
   "outputs": [],
   "source": [
    "green_areas_reproj.plot()"
   ]
  },
  {
   "cell_type": "markdown",
   "id": "a649bedb",
   "metadata": {},
   "source": [
    "### Calculation of statistics of green areas at district level"
   ]
  },
  {
   "cell_type": "code",
   "execution_count": 51,
   "id": "a0cee766",
   "metadata": {},
   "outputs": [],
   "source": [
    "# Calculates the sum of the area  statistics for the green areas per district :\n",
    "green_area_sum = green_areas_reproj.groupby(['stadtteil'])['flaeche_ha'].sum().reset_index()\n",
    "green_area_sum.rename(columns={'flaeche_ha': 'green_area_total_ha'}, inplace=True)\n",
    "\n",
    "# Calculates mean green space area per district\n",
    "green_area_mean = green_areas_reproj.groupby(['stadtteil'])['flaeche_ha'].mean().reset_index()\n",
    "green_area_mean.rename(columns={'flaeche_ha': 'green_area_mean_ha'}, inplace=True)\n",
    "\n",
    "# Calculates the count of green spaces per district=  bennenung = unique name of green area\n",
    "green_space_count = green_areas_reproj.groupby(['stadtteil'])['benennung'].count().reset_index()\n",
    "green_space_count.rename(columns={'benennung': 'green_space_count'}, inplace=True)\n",
    "\n",
    "# Adds the statiscts to one data frame\n",
    "green_stats = pd.merge(green_area_sum, green_area_mean, on='stadtteil')\n",
    "green_stats = pd.merge(green_stats, green_space_count, on='stadtteil')\n"
   ]
  },
  {
   "cell_type": "code",
   "execution_count": 52,
   "id": "94c4b2e8",
   "metadata": {},
   "outputs": [
    {
     "data": {
      "text/html": [
       "<div>\n",
       "<style scoped>\n",
       "    .dataframe tbody tr th:only-of-type {\n",
       "        vertical-align: middle;\n",
       "    }\n",
       "\n",
       "    .dataframe tbody tr th {\n",
       "        vertical-align: top;\n",
       "    }\n",
       "\n",
       "    .dataframe thead th {\n",
       "        text-align: right;\n",
       "    }\n",
       "</style>\n",
       "<table border=\"1\" class=\"dataframe\">\n",
       "  <thead>\n",
       "    <tr style=\"text-align: right;\">\n",
       "      <th></th>\n",
       "      <th>stadtteil</th>\n",
       "      <th>green_area_total_ha</th>\n",
       "      <th>green_area_mean_ha</th>\n",
       "      <th>green_space_count</th>\n",
       "      <th>perc_green_area</th>\n",
       "    </tr>\n",
       "  </thead>\n",
       "  <tbody>\n",
       "    <tr>\n",
       "      <th>0</th>\n",
       "      <td>Allermöhe</td>\n",
       "      <td>41.4007</td>\n",
       "      <td>3.450058</td>\n",
       "      <td>7</td>\n",
       "      <td>0.010000</td>\n",
       "    </tr>\n",
       "    <tr>\n",
       "      <th>1</th>\n",
       "      <td>Alsterdorf</td>\n",
       "      <td>13.6286</td>\n",
       "      <td>0.592548</td>\n",
       "      <td>6</td>\n",
       "      <td>0.010001</td>\n",
       "    </tr>\n",
       "    <tr>\n",
       "      <th>2</th>\n",
       "      <td>Altengamme</td>\n",
       "      <td>0.2130</td>\n",
       "      <td>0.213000</td>\n",
       "      <td>0</td>\n",
       "      <td>0.010002</td>\n",
       "    </tr>\n",
       "    <tr>\n",
       "      <th>3</th>\n",
       "      <td>Altona-Altstadt</td>\n",
       "      <td>28.3002</td>\n",
       "      <td>0.496495</td>\n",
       "      <td>37</td>\n",
       "      <td>0.009993</td>\n",
       "    </tr>\n",
       "    <tr>\n",
       "      <th>4</th>\n",
       "      <td>Altona-Nord</td>\n",
       "      <td>8.0044</td>\n",
       "      <td>0.470847</td>\n",
       "      <td>1</td>\n",
       "      <td>0.010012</td>\n",
       "    </tr>\n",
       "  </tbody>\n",
       "</table>\n",
       "</div>"
      ],
      "text/plain": [
       "         stadtteil  green_area_total_ha  green_area_mean_ha   \n",
       "0        Allermöhe              41.4007            3.450058  \\\n",
       "1       Alsterdorf              13.6286            0.592548   \n",
       "2       Altengamme               0.2130            0.213000   \n",
       "3  Altona-Altstadt              28.3002            0.496495   \n",
       "4      Altona-Nord               8.0044            0.470847   \n",
       "\n",
       "   green_space_count  perc_green_area  \n",
       "0                  7         0.010000  \n",
       "1                  6         0.010001  \n",
       "2                  0         0.010002  \n",
       "3                 37         0.009993  \n",
       "4                  1         0.010012  "
      ]
     },
     "execution_count": 52,
     "metadata": {},
     "output_type": "execute_result"
    }
   ],
   "source": [
    "# Calculate percentage of green space from total area of the district\n",
    "green_stats['perc_green_area'] = green_areas_reproj['flaeche_ha'] / green_areas_reproj['geometry'].area * 100\n",
    "green_stats.head()"
   ]
  },
  {
   "cell_type": "code",
   "execution_count": 53,
   "id": "892ca7ee",
   "metadata": {},
   "outputs": [],
   "source": [
    "# Finally calculates the area per inhabitant by using the column inhabitants from the admin_pop_reproj dataframe\n",
    "# ad the column to the green_stats data frame\n",
    "green_stats = green_stats.merge(admin_pop_reproj[['stadtteil_', 'inhabitants']], left_on='stadtteil', right_on='stadtteil_', how='left')\n",
    "green_stats.drop('stadtteil_', axis=1, inplace=True)"
   ]
  },
  {
   "cell_type": "code",
   "execution_count": 54,
   "id": "8de46899",
   "metadata": {},
   "outputs": [
    {
     "data": {
      "text/html": [
       "<div>\n",
       "<style scoped>\n",
       "    .dataframe tbody tr th:only-of-type {\n",
       "        vertical-align: middle;\n",
       "    }\n",
       "\n",
       "    .dataframe tbody tr th {\n",
       "        vertical-align: top;\n",
       "    }\n",
       "\n",
       "    .dataframe thead th {\n",
       "        text-align: right;\n",
       "    }\n",
       "</style>\n",
       "<table border=\"1\" class=\"dataframe\">\n",
       "  <thead>\n",
       "    <tr style=\"text-align: right;\">\n",
       "      <th></th>\n",
       "      <th>stadtteil</th>\n",
       "      <th>green_area_total_ha</th>\n",
       "      <th>green_area_mean_ha</th>\n",
       "      <th>green_space_count</th>\n",
       "      <th>perc_green_area</th>\n",
       "      <th>inhabitants</th>\n",
       "      <th>area_per_inhbt</th>\n",
       "    </tr>\n",
       "  </thead>\n",
       "  <tbody>\n",
       "    <tr>\n",
       "      <th>0</th>\n",
       "      <td>Allermöhe</td>\n",
       "      <td>41.4007</td>\n",
       "      <td>3.450058</td>\n",
       "      <td>7</td>\n",
       "      <td>0.010000</td>\n",
       "      <td>1441.0</td>\n",
       "      <td>34.806175</td>\n",
       "    </tr>\n",
       "    <tr>\n",
       "      <th>1</th>\n",
       "      <td>Alsterdorf</td>\n",
       "      <td>13.6286</td>\n",
       "      <td>0.592548</td>\n",
       "      <td>6</td>\n",
       "      <td>0.010001</td>\n",
       "      <td>14975.0</td>\n",
       "      <td>1098.792246</td>\n",
       "    </tr>\n",
       "    <tr>\n",
       "      <th>2</th>\n",
       "      <td>Altengamme</td>\n",
       "      <td>0.2130</td>\n",
       "      <td>0.213000</td>\n",
       "      <td>0</td>\n",
       "      <td>0.010002</td>\n",
       "      <td>2319.0</td>\n",
       "      <td>10887.323944</td>\n",
       "    </tr>\n",
       "    <tr>\n",
       "      <th>3</th>\n",
       "      <td>Altona-Altstadt</td>\n",
       "      <td>28.3002</td>\n",
       "      <td>0.496495</td>\n",
       "      <td>37</td>\n",
       "      <td>0.009993</td>\n",
       "      <td>29151.0</td>\n",
       "      <td>1030.063392</td>\n",
       "    </tr>\n",
       "    <tr>\n",
       "      <th>4</th>\n",
       "      <td>Altona-Nord</td>\n",
       "      <td>8.0044</td>\n",
       "      <td>0.470847</td>\n",
       "      <td>1</td>\n",
       "      <td>0.010012</td>\n",
       "      <td>25942.0</td>\n",
       "      <td>3240.967468</td>\n",
       "    </tr>\n",
       "  </tbody>\n",
       "</table>\n",
       "</div>"
      ],
      "text/plain": [
       "         stadtteil  green_area_total_ha  green_area_mean_ha   \n",
       "0        Allermöhe              41.4007            3.450058  \\\n",
       "1       Alsterdorf              13.6286            0.592548   \n",
       "2       Altengamme               0.2130            0.213000   \n",
       "3  Altona-Altstadt              28.3002            0.496495   \n",
       "4      Altona-Nord               8.0044            0.470847   \n",
       "\n",
       "   green_space_count  perc_green_area  inhabitants  area_per_inhbt  \n",
       "0                  7         0.010000       1441.0       34.806175  \n",
       "1                  6         0.010001      14975.0     1098.792246  \n",
       "2                  0         0.010002       2319.0    10887.323944  \n",
       "3                 37         0.009993      29151.0     1030.063392  \n",
       "4                  1         0.010012      25942.0     3240.967468  "
      ]
     },
     "execution_count": 54,
     "metadata": {},
     "output_type": "execute_result"
    }
   ],
   "source": [
    "#calculate area / inhabitants \n",
    "green_stats['area_per_inhbt'] = green_stats['inhabitants'] / green_stats['green_area_total_ha']\n",
    "green_stats.head()"
   ]
  },
  {
   "cell_type": "code",
   "execution_count": null,
   "id": "5d614093",
   "metadata": {},
   "outputs": [],
   "source": [
    "#check std of relevant values\n",
    "#green_stats = green_stats[['area_per_inhbt','perc_green_area' ]].std()\n",
    "#green_stats.std()"
   ]
  },
  {
   "cell_type": "code",
   "execution_count": null,
   "id": "a67144a9",
   "metadata": {},
   "outputs": [],
   "source": []
  },
  {
   "cell_type": "code",
   "execution_count": null,
   "id": "2c91f9a8",
   "metadata": {},
   "outputs": [],
   "source": [
    "# compute the z score of relevant columns\n",
    "#z_scores_greens = green_stats[['area_per_inhbt','perc_green_area']].apply(zscore)\n",
    "#z_scores_greens.head()"
   ]
  },
  {
   "cell_type": "code",
   "execution_count": 60,
   "id": "bdaab1b9",
   "metadata": {},
   "outputs": [
    {
     "data": {
      "text/plain": [
       "area_per_inhbt    1513.966291\n",
       "dtype: float64"
      ]
     },
     "execution_count": 60,
     "metadata": {},
     "output_type": "execute_result"
    }
   ],
   "source": []
  },
  {
   "cell_type": "code",
   "execution_count": 63,
   "id": "eadaad5c",
   "metadata": {},
   "outputs": [],
   "source": [
    "#groups / classifies the results into equal percentiles of the respective column (equal quantiles 0 -4 (e.g. 0= lowest 20th quantile of mean / to  - 4 within highest 20th quantile))\n",
    "#and saves the results to a new column\n",
    "green_stats['qt_stats_area_inhbt'] = pd.qcut(green_stats ['area_per_inhbt'],5,labels=[0, 1, 2, 3, 4])\n"
   ]
  },
  {
   "cell_type": "code",
   "execution_count": 65,
   "id": "d2a7fb5e",
   "metadata": {},
   "outputs": [
    {
     "data": {
      "text/html": [
       "<div>\n",
       "<style scoped>\n",
       "    .dataframe tbody tr th:only-of-type {\n",
       "        vertical-align: middle;\n",
       "    }\n",
       "\n",
       "    .dataframe tbody tr th {\n",
       "        vertical-align: top;\n",
       "    }\n",
       "\n",
       "    .dataframe thead th {\n",
       "        text-align: right;\n",
       "    }\n",
       "</style>\n",
       "<table border=\"1\" class=\"dataframe\">\n",
       "  <thead>\n",
       "    <tr style=\"text-align: right;\">\n",
       "      <th></th>\n",
       "      <th>stadtteil</th>\n",
       "      <th>green_area_total_ha</th>\n",
       "      <th>green_area_mean_ha</th>\n",
       "      <th>green_space_count</th>\n",
       "      <th>perc_green_area</th>\n",
       "      <th>inhabitants</th>\n",
       "      <th>area_per_inhbt</th>\n",
       "      <th>mean_greenarea</th>\n",
       "      <th>qt_green_stats</th>\n",
       "      <th>status</th>\n",
       "      <th>qt_stats_area_inhbt</th>\n",
       "    </tr>\n",
       "  </thead>\n",
       "  <tbody>\n",
       "    <tr>\n",
       "      <th>0</th>\n",
       "      <td>Allermöhe</td>\n",
       "      <td>41.4007</td>\n",
       "      <td>3.450058</td>\n",
       "      <td>7</td>\n",
       "      <td>0.010000</td>\n",
       "      <td>1441.0</td>\n",
       "      <td>34.806175</td>\n",
       "      <td>NaN</td>\n",
       "      <td>0</td>\n",
       "      <td>very low</td>\n",
       "      <td>0</td>\n",
       "    </tr>\n",
       "    <tr>\n",
       "      <th>1</th>\n",
       "      <td>Alsterdorf</td>\n",
       "      <td>13.6286</td>\n",
       "      <td>0.592548</td>\n",
       "      <td>6</td>\n",
       "      <td>0.010001</td>\n",
       "      <td>14975.0</td>\n",
       "      <td>1098.792246</td>\n",
       "      <td>NaN</td>\n",
       "      <td>3</td>\n",
       "      <td>high</td>\n",
       "      <td>3</td>\n",
       "    </tr>\n",
       "    <tr>\n",
       "      <th>2</th>\n",
       "      <td>Altengamme</td>\n",
       "      <td>0.2130</td>\n",
       "      <td>0.213000</td>\n",
       "      <td>0</td>\n",
       "      <td>0.010002</td>\n",
       "      <td>2319.0</td>\n",
       "      <td>10887.323944</td>\n",
       "      <td>NaN</td>\n",
       "      <td>4</td>\n",
       "      <td>very high</td>\n",
       "      <td>4</td>\n",
       "    </tr>\n",
       "    <tr>\n",
       "      <th>3</th>\n",
       "      <td>Altona-Altstadt</td>\n",
       "      <td>28.3002</td>\n",
       "      <td>0.496495</td>\n",
       "      <td>37</td>\n",
       "      <td>0.009993</td>\n",
       "      <td>29151.0</td>\n",
       "      <td>1030.063392</td>\n",
       "      <td>NaN</td>\n",
       "      <td>3</td>\n",
       "      <td>high</td>\n",
       "      <td>3</td>\n",
       "    </tr>\n",
       "    <tr>\n",
       "      <th>4</th>\n",
       "      <td>Altona-Nord</td>\n",
       "      <td>8.0044</td>\n",
       "      <td>0.470847</td>\n",
       "      <td>1</td>\n",
       "      <td>0.010012</td>\n",
       "      <td>25942.0</td>\n",
       "      <td>3240.967468</td>\n",
       "      <td>NaN</td>\n",
       "      <td>4</td>\n",
       "      <td>very high</td>\n",
       "      <td>4</td>\n",
       "    </tr>\n",
       "  </tbody>\n",
       "</table>\n",
       "</div>"
      ],
      "text/plain": [
       "         stadtteil  green_area_total_ha  green_area_mean_ha   \n",
       "0        Allermöhe              41.4007            3.450058  \\\n",
       "1       Alsterdorf              13.6286            0.592548   \n",
       "2       Altengamme               0.2130            0.213000   \n",
       "3  Altona-Altstadt              28.3002            0.496495   \n",
       "4      Altona-Nord               8.0044            0.470847   \n",
       "\n",
       "   green_space_count  perc_green_area  inhabitants  area_per_inhbt   \n",
       "0                  7         0.010000       1441.0       34.806175  \\\n",
       "1                  6         0.010001      14975.0     1098.792246   \n",
       "2                  0         0.010002       2319.0    10887.323944   \n",
       "3                 37         0.009993      29151.0     1030.063392   \n",
       "4                  1         0.010012      25942.0     3240.967468   \n",
       "\n",
       "   mean_greenarea qt_green_stats     status qt_stats_area_inhbt  \n",
       "0             NaN              0   very low                   0  \n",
       "1             NaN              3       high                   3  \n",
       "2             NaN              4  very high                   4  \n",
       "3             NaN              3       high                   3  \n",
       "4             NaN              4  very high                   4  "
      ]
     },
     "execution_count": 65,
     "metadata": {},
     "output_type": "execute_result"
    }
   ],
   "source": [
    "# apply add column functions\n",
    "add_status_column(green_stats, 'qt_stats_area_inhbt')\n",
    "\n",
    "green_stats.head()"
   ]
  },
  {
   "cell_type": "code",
   "execution_count": null,
   "id": "fcb92129",
   "metadata": {},
   "outputs": [],
   "source": []
  },
  {
   "cell_type": "code",
   "execution_count": null,
   "id": "a8924cd7",
   "metadata": {},
   "outputs": [],
   "source": [
    "#housing_reproj.columns"
   ]
  },
  {
   "cell_type": "code",
   "execution_count": null,
   "id": "a328047c",
   "metadata": {},
   "outputs": [],
   "source": [
    "#checks data type of column and than changes it  to integer and drops unimportant columns in the data frame\n",
    "\n",
    "housing_reproj['gebaeudefu'] = housing_reproj['gebaeudefu'].astype(int)\n",
    "\n",
    "#print(housing_reproj['gebaeudefu'].dtype)\n",
    "housing_reproj.drop(columns=['anzahlDerU', 'lageZurErd', 'dachart', 'SHAPE_Leng'],axis=1, inplace=True)\n"
   ]
  },
  {
   "cell_type": "code",
   "execution_count": null,
   "id": "84dc9abd",
   "metadata": {},
   "outputs": [],
   "source": [
    "# filter out any non-residential housing from data set according to ALKIS Key (1000 and 1010 )\n",
    "housing_reproj = housing_reproj[(housing_reproj['gebaeudefu'] == 1010) | (housing_reproj['gebaeudefu'] == 1000)]\n",
    "#housing_reproj.head()"
   ]
  },
  {
   "cell_type": "code",
   "execution_count": null,
   "id": "700875d3",
   "metadata": {},
   "outputs": [],
   "source": []
  }
 ],
 "metadata": {
  "kernelspec": {
   "display_name": "Python 3 (ipykernel)",
   "language": "python",
   "name": "python3"
  },
  "language_info": {
   "codemirror_mode": {
    "name": "ipython",
    "version": 3
   },
   "file_extension": ".py",
   "mimetype": "text/x-python",
   "name": "python",
   "nbconvert_exporter": "python",
   "pygments_lexer": "ipython3",
   "version": "3.11.3"
  }
 },
 "nbformat": 4,
 "nbformat_minor": 5
}
