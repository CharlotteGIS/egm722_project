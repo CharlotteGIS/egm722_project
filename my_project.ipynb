{
 "cells": [
  {
   "cell_type": "markdown",
   "id": "2952f082",
   "metadata": {},
   "source": [
    "## import libraries"
   ]
  },
  {
   "cell_type": "code",
   "execution_count": null,
   "id": "45ba90cb",
   "metadata": {},
   "outputs": [],
   "source": [
    "import geopandas as gpd\n",
    "import matplotlib.pyplot as plt\n",
    "from mpl_toolkits.axes_grid1 import make_axes_locatable\n",
    "import matplotlib.patches as mpatches\n",
    "import cartopy.crs as ccrs\n",
    "import pandas as pd\n",
    "import geopandas as gpd\n",
    "from scipy.stats import zscore"
   ]
  },
  {
   "cell_type": "code",
   "execution_count": null,
   "id": "340e4348",
   "metadata": {},
   "outputs": [],
   "source": [
    "#make plot interactive\n",
    "plt.ion()"
   ]
  },
  {
   "cell_type": "markdown",
   "id": "a0a3cb22",
   "metadata": {},
   "source": [
    "# 1)  Social Indicator"
   ]
  },
  {
   "cell_type": "markdown",
   "id": "587e525f",
   "metadata": {},
   "source": [
    "### Load & clean data "
   ]
  },
  {
   "cell_type": "code",
   "execution_count": null,
   "id": "3688b3d4",
   "metadata": {},
   "outputs": [],
   "source": [
    "# load the necessary data here \n",
    "admin = gpd.read_file(\"C:/Users/charl/OneDrive/Desktop/ulster/EGM722_programming/git/egm722_project/data/Stadtteile_Hamburg.shp\")\n",
    "stats = pd.read_csv(\"C:/Users/charl/OneDrive/Desktop/ulster/EGM722_programming/git/egm722_project/data/statistics_HH21.csv\",encoding=\"utf-8\", delimiter=\";\",decimal=\".\" )\n",
    "#admin\n",
    "#print(stats.head())"
   ]
  },
  {
   "cell_type": "code",
   "execution_count": null,
   "id": "f59743ce",
   "metadata": {},
   "outputs": [],
   "source": [
    "#rename columns\n",
    "stats.columns = ['district','inhabitants', 'pop<18','%<18', 'pop>65y','%>65', 'foreignResidents', 'migration_backg', 'hh','pp_size','hh_kids', '%hh_kids','areakm2', 'pop_density','working_pop', '%working_pop', 'unemployed','%unemployed','unemployed<18','%unemployed<18', 'unemployed>65', '%unemployed>65','social_benefits', '%social_benefits','social_housing', '%social_housing']\n",
    "#stats\n"
   ]
  },
  {
   "cell_type": "code",
   "execution_count": null,
   "id": "4f9339e3",
   "metadata": {},
   "outputs": [],
   "source": [
    "#joined population data with shapefile of admin boundaries and dropped additional columns in the admin dataset\n",
    "admin_pop = pd.merge(admin,stats, left_on='stadtteil_', right_on='district', how = 'inner')\n",
    "\n",
    "admin_pop.drop(columns=['OBJECTID','bezirk', 'stadttei_1', 'stadttei_2','pp_size', '%<18', 'hh','foreignResidents', 'migration_backg','pop<18','hh_kids', '%hh_kids', 'pop>65y', 'unemployed<18', ],axis=1, inplace=True)\n",
    "\n",
    "#admin_pop\n",
    "#fig, ax = plt.subplots(figsize=(24, 18))\n",
    "#admin_pop.plot(ax=ax, alpha=1,linewidth=2, facecolor=\"none\")"
   ]
  },
  {
   "cell_type": "code",
   "execution_count": null,
   "id": "9b02893f",
   "metadata": {},
   "outputs": [],
   "source": [
    "# checks the number of null values and drops the null values in the colums used for calculation of social status\n",
    "admin_pop.isnull().mean() * 100\n",
    "admin_pop.dropna(subset=['%unemployed','%social_benefits','%social_housing','%unemployed>65' ], inplace=True)\n",
    "\n",
    "#admin_pop.dropna(inplace=True)\n",
    "#admin_pop.plot()\n",
    "admin_pop.head()"
   ]
  },
  {
   "cell_type": "code",
   "execution_count": null,
   "id": "7f012b53",
   "metadata": {},
   "outputs": [],
   "source": [
    "# this line of code first subsets the dataframe so that only numeric columns relevant to the further anylsis (social status) are maintained\n",
    "# code than checks standard deviation \n",
    "social_stats = admin_pop[['%unemployed','%social_benefits','%social_housing','%unemployed>65' ]]#std()\n",
    "\n",
    "social_stats.hist()\n",
    "social_stats.std()"
   ]
  },
  {
   "cell_type": "code",
   "execution_count": null,
   "id": "d75512c7",
   "metadata": {},
   "outputs": [],
   "source": [
    "# The scipy Library in Python is used to calculate the z-score which helps to standardize the values for each column \n",
    "\n",
    "z_scores_admin_pop = admin_pop[['%unemployed','%social_benefits','%social_housing','%unemployed>65']].apply(zscore)\n",
    "\n",
    "print(z_scores_admin_pop.std())"
   ]
  },
  {
   "cell_type": "code",
   "execution_count": null,
   "id": "670f5b3f",
   "metadata": {},
   "outputs": [],
   "source": [
    "#z_scores_admin_pop"
   ]
  },
  {
   "cell_type": "markdown",
   "id": "8063e586",
   "metadata": {},
   "source": [
    "### Analysis"
   ]
  },
  {
   "cell_type": "code",
   "execution_count": null,
   "id": "abb3fafb",
   "metadata": {},
   "outputs": [],
   "source": [
    "#groups / classifies the results into equal percentiles of the respective column (equal quantiles 0 -4 (e.g. 0= lowest 20th quantile of mean / to  - 4 within highest 20th quantile))\n",
    "#and saves the results to a new column. all the 4 indicators are equally weighted. no difference has been made\n",
    "z_scores_admin_pop['qt_soc_stats'] = pd.qcut(z_scores_admin_pop['%unemployed'] + z_scores_admin_pop['%social_benefits'] + z_scores_admin_pop['%social_housing'] + z_scores_admin_pop['%unemployed>65'], 5, labels=[0, 1, 2, 3, 4])\n"
   ]
  },
  {
   "cell_type": "code",
   "execution_count": null,
   "id": "b317679e",
   "metadata": {},
   "outputs": [],
   "source": []
  },
  {
   "cell_type": "code",
   "execution_count": null,
   "id": "24f10abd",
   "metadata": {},
   "outputs": [],
   "source": [
    "#function to add a text column to the data frame based on the classification into percentiles (will be applied to the  different indicators)\n",
    "def add_status_column(df, zscore_mean_column):\n",
    "    df['status'] = ['very low' if x == 0 else  #creates the new column \"status and then adds text description to the corresponding value\"\n",
    "                   'low' if x == 1 else\n",
    "                   'medium' if x == 2 else\n",
    "                   'high' if x == 3 else\n",
    "                   'very high' for x in df[zscore_mean_column]]\n",
    "    \n",
    "add_status_column(z_scores_admin_pop, 'qt_soc_stats')\n"
   ]
  },
  {
   "cell_type": "code",
   "execution_count": null,
   "id": "ae6a5989",
   "metadata": {},
   "outputs": [],
   "source": [
    "#apply function to add status column\n",
    "add_status_column(z_scores_admin_pop, 'qt_soc_stats')"
   ]
  },
  {
   "cell_type": "code",
   "execution_count": null,
   "id": "88096940",
   "metadata": {},
   "outputs": [],
   "source": [
    "z_scores_admin_pop.head()"
   ]
  },
  {
   "cell_type": "code",
   "execution_count": null,
   "id": "8a84e34d",
   "metadata": {},
   "outputs": [],
   "source": [
    "#merges the social statistics computed to the admin data frame to be able to plot the data later on\n",
    "admin_socstats = pd.merge(admin_pop, z_scores_admin_pop, left_index=True, right_index=True)\n",
    "admin_socstats.head()"
   ]
  },
  {
   "cell_type": "code",
   "execution_count": null,
   "id": "733c9131",
   "metadata": {},
   "outputs": [],
   "source": [
    "#save the data frame as csv file\n",
    "#admin_socstats.to_csv(\"./output/social_stats.csv\")"
   ]
  },
  {
   "cell_type": "markdown",
   "id": "6680f29e",
   "metadata": {},
   "source": [
    "### VISUALIZATION"
   ]
  },
  {
   "cell_type": "code",
   "execution_count": null,
   "id": "56bf3c70",
   "metadata": {},
   "outputs": [],
   "source": [
    "#plot output\n",
    "admin_socstats.plot(\"status\", cmap=\"Reds\", legend=True)  "
   ]
  },
  {
   "cell_type": "code",
   "execution_count": null,
   "id": "ef529349-a797-449b-85e4-eb4952f96cfd",
   "metadata": {},
   "outputs": [],
   "source": []
  },
  {
   "cell_type": "markdown",
   "id": "68f41edc",
   "metadata": {},
   "source": [
    "# 2) Environmental Indicators\n",
    "uses noise, green areas, surface temperature? as indicator)"
   ]
  },
  {
   "cell_type": "code",
   "execution_count": null,
   "id": "3c58faff-b462-4da8-9f4b-a08dee3c85f0",
   "metadata": {},
   "outputs": [],
   "source": [
    "#load the data\n",
    "noise = gpd.read_file(\"C:/Users/charl/OneDrive/Desktop/ulster/EGM722_programming/git/egm722_project/data/Laermkarten_HH_2018-11-19.shp\")\n",
    "buildings = gpd.read_file(\"C:/Users/charl/OneDrive/Desktop/ulster/EGM722_programming/git/egm722_project/data/Gebaeude_Hamburg.shp\")\n",
    "green_areas = gpd.read_file(\"C:/Users/charl/OneDrive/Desktop/ulster/EGM722_programming/git/egm722_project/data/Oeffentliche_Gruenanlage_Hamburg.shp\")"
   ]
  },
  {
   "cell_type": "code",
   "execution_count": null,
   "id": "14977c2e",
   "metadata": {},
   "outputs": [],
   "source": []
  },
  {
   "cell_type": "code",
   "execution_count": null,
   "id": "bdd4246d",
   "metadata": {},
   "outputs": [],
   "source": [
    "# function to checks crs of different layers and reproject to epgs:Hamburg, GE to prepare for joining later on EPSG:25832\n",
    "def reproject_to_local_epsg(gdf):\n",
    "    # Checks the CRS of the input GeoDataFrame\n",
    "    print('Original CRS:', gdf.crs)\n",
    "\n",
    "    # Reprojects the GeoDataFrame to EPSG 25832\n",
    "    gdf_reproj = gdf.to_crs(epsg=25832)\n",
    "\n",
    "    # Prints out the CRS of the output GeoDataFrame\n",
    "    print('Reprojected CRS:', gdf_reproj.crs)\n",
    "\n",
    "    return gdf_reproj\n",
    "\n",
    "# apply function all of data set to convert crs\n",
    "admin_pop_reproj = reproject_to_local_epsg(admin_pop)\n",
    "noise_reproj = reproject_to_local_epsg(noise)\n",
    "housing_reproj = reproject_to_local_epsg(buildings)\n",
    "green_areas_reproj = reproject_to_local_epsg(green_areas)\n"
   ]
  },
  {
   "cell_type": "markdown",
   "id": "68bf0cf7",
   "metadata": {},
   "source": [
    "## a) Green areas "
   ]
  },
  {
   "cell_type": "code",
   "execution_count": null,
   "id": "d16df94c",
   "metadata": {},
   "outputs": [],
   "source": [
    "#green_areas_reproj.columns"
   ]
  },
  {
   "cell_type": "code",
   "execution_count": null,
   "id": "fc9dce03",
   "metadata": {},
   "outputs": [],
   "source": [
    "#for green areas delete the values with code 10 - playground according to ALKIS the official cadastre information system) key and drop some of the unimportant columns\n",
    "green_areas_reproj = green_areas_reproj[green_areas_reproj.nutzung != 10]\n",
    "\n",
    "#drop unimportant columns from the dataset\n",
    "green_areas_reproj.drop(columns=['veroeffent', 'nutzung', 'nutz_code' ,'herrichtun', 'gesamtanla','aktualitae','idnr','belegenh_1','belegenhei','quelle_dat', 'stand'],axis=1, inplace=True)\n",
    "\n",
    "green_areas_reproj.head()"
   ]
  },
  {
   "cell_type": "code",
   "execution_count": null,
   "id": "b0dc7abe",
   "metadata": {},
   "outputs": [],
   "source": [
    "#green_areas_reproj.plot()"
   ]
  },
  {
   "cell_type": "markdown",
   "id": "d4a0d018",
   "metadata": {},
   "source": [
    "#### Calculation of statistics of green areas at district level"
   ]
  },
  {
   "cell_type": "code",
   "execution_count": null,
   "id": "a0cee766",
   "metadata": {},
   "outputs": [],
   "source": [
    "# Calculates the sum of the area  statistics for the green areas per district (district = stadtteil)\n",
    "green_area_sum = green_areas_reproj.groupby(['stadtteil'])['flaeche_ha'].sum().reset_index()\n",
    "green_area_sum.rename(columns={'flaeche_ha': 'green_area_total_ha'}, inplace=True)\n",
    "\n",
    "# Calculates mean green space area per district\n",
    "green_area_mean = green_areas_reproj.groupby(['stadtteil'])['flaeche_ha'].mean().reset_index()\n",
    "green_area_mean.rename(columns={'flaeche_ha': 'green_area_mean_ha'}, inplace=True)\n",
    "\n",
    "# Calculates the count of green spaces per district=  bennenung = unique name of green area\n",
    "green_space_count = green_areas_reproj.groupby(['stadtteil'])['benennung'].count().reset_index()\n",
    "green_space_count.rename(columns={'benennung': 'green_space_count'}, inplace=True)\n",
    "\n",
    "# Combines the statistics into one data frame\n",
    "green_stats = pd.merge(green_area_sum, green_area_mean, on='stadtteil')\n",
    "green_stats = pd.merge(green_stats, green_space_count, on='stadtteil')\n"
   ]
  },
  {
   "cell_type": "code",
   "execution_count": null,
   "id": "94c4b2e8",
   "metadata": {},
   "outputs": [],
   "source": [
    "# Calculates the percentage of green space from total area of the district\n",
    "green_stats['perc_green_area'] = green_areas_reproj['flaeche_ha'] / green_areas_reproj['geometry'].area * 100\n",
    "green_stats.head()"
   ]
  },
  {
   "cell_type": "code",
   "execution_count": null,
   "id": "68f87e8b",
   "metadata": {},
   "outputs": [],
   "source": [
    "# Finally calculates the area per inhabitant by using the column inhabitants from the admin_pop_reproj dataframe\n",
    "# add the column to the green_stats data frame\n",
    "green_stats = green_stats.merge(admin_pop_reproj[['stadtteil_', 'inhabitants']], left_on='stadtteil', right_on='stadtteil_', how='left')\n",
    "green_stats.drop('stadtteil_', axis=1, inplace=True)"
   ]
  },
  {
   "cell_type": "code",
   "execution_count": null,
   "id": "d686cdc9",
   "metadata": {},
   "outputs": [],
   "source": [
    "#calculate area / inhabitants \n",
    "green_stats['area_per_inhbt'] = green_stats['inhabitants'] / green_stats['green_area_total_ha']\n",
    "green_stats.head()"
   ]
  },
  {
   "cell_type": "code",
   "execution_count": null,
   "id": "1ee1441c",
   "metadata": {},
   "outputs": [],
   "source": [
    "#check std of relevant values\n",
    "#green_stats = green_stats[['area_per_inhbt','perc_green_area' ]].std()\n",
    "#green_stats.std()"
   ]
  },
  {
   "cell_type": "code",
   "execution_count": null,
   "id": "29300679",
   "metadata": {},
   "outputs": [],
   "source": [
    "#groups / classifies the results into equal percentiles of the respective column (equal quantiles 0 -4 (e.g. 0= lowest 20th quantile of mean / to  - 4 within highest 20th quantile))\n",
    "#and saves the results to a new column\n",
    "green_stats['qt_stats_area_inhbt'] = pd.qcut(green_stats ['area_per_inhbt'],5,labels=[0, 1, 2, 3, 4])\n"
   ]
  },
  {
   "cell_type": "code",
   "execution_count": null,
   "id": "c2bc47db",
   "metadata": {},
   "outputs": [],
   "source": [
    "# apply the add column function defined earlier\n",
    "add_status_column(green_stats, 'qt_stats_area_inhbt')\n",
    "green_stats.head()"
   ]
  },
  {
   "cell_type": "code",
   "execution_count": null,
   "id": "23fe335a",
   "metadata": {},
   "outputs": [],
   "source": [
    "#save green stats to csv file\n"
   ]
  },
  {
   "cell_type": "code",
   "execution_count": null,
   "id": "577694b9",
   "metadata": {},
   "outputs": [],
   "source": [
    "#merges the green statistics computed to the reprojected admin data frame to be able to plot the data later on\n",
    "admin_greenstats = pd.merge(admin_pop_reproj, green_stats, left_index=True, right_index=True)\n",
    "admin_greenstats.head()"
   ]
  },
  {
   "cell_type": "markdown",
   "id": "0b8586b5",
   "metadata": {},
   "source": [
    "### Quick Visualization green areas"
   ]
  },
  {
   "cell_type": "code",
   "execution_count": null,
   "id": "b1bbb527",
   "metadata": {},
   "outputs": [],
   "source": [
    "#plot output\n",
    "admin_greenstats.plot(\"status\", cmap=\"Greens\", legend=True)  "
   ]
  },
  {
   "cell_type": "markdown",
   "id": "9aa63ca2",
   "metadata": {},
   "source": [
    "## b) Noise"
   ]
  },
  {
   "cell_type": "code",
   "execution_count": null,
   "id": "3173c41a",
   "metadata": {},
   "outputs": [],
   "source": [
    "#for the noise indicator. the assessment aims to identify houses affected by noise and class "
   ]
  },
  {
   "cell_type": "code",
   "execution_count": null,
   "id": "75003ad9",
   "metadata": {},
   "outputs": [],
   "source": [
    "#housing_reproj.columns"
   ]
  },
  {
   "cell_type": "code",
   "execution_count": null,
   "id": "d7c41b77",
   "metadata": {},
   "outputs": [],
   "source": [
    "#checks data type of column gebaeudefu which indicates usage of houses (e.g. commercial, resnidential) and than changes it  to integer and drops unimportant columns in the data frame\n",
    "housing_reproj['gebaeudefu'] = housing_reproj['gebaeudefu'].astype(int)\n",
    "\n",
    "#print(housing_reproj['gebaeudefu'].dtype)\n",
    "housing_reproj.drop(columns=['anzahlDerU', 'lageZurErd', 'dachart', 'SHAPE_Leng'],axis=1, inplace=True)\n"
   ]
  },
  {
   "cell_type": "code",
   "execution_count": null,
   "id": "e81c571e",
   "metadata": {},
   "outputs": [],
   "source": [
    "# filter out any non-residential housing from data set according to ALKIS Key (1000 and 1010 )\n",
    "housing_reproj = housing_reproj[(housing_reproj['gebaeudefu'] == 1010) | (housing_reproj['gebaeudefu'] == 1000)]#housing_reproj.head()"
   ]
  },
  {
   "cell_type": "code",
   "execution_count": null,
   "id": "8d845c83",
   "metadata": {
    "scrolled": true
   },
   "outputs": [],
   "source": [
    "###checks out the noise data setwhich is a classified shapefile:  name here stands for severity of noise from 0 low to 4 highest\n",
    "noise_reproj.head()  "
   ]
  },
  {
   "cell_type": "code",
   "execution_count": null,
   "id": "5c2fd44d",
   "metadata": {},
   "outputs": [],
   "source": [
    "# the code uses the geopandas overlay method and interesect operation to determine where the noise layer intersects with the house layer to determine the houses affectected by noise\n",
    "houses_noise = gpd.overlay(housing_reproj, noise_reproj, how='intersection')\n",
    "#houses_noise.head()"
   ]
  },
  {
   "cell_type": "code",
   "execution_count": null,
   "id": "3908255e",
   "metadata": {},
   "outputs": [],
   "source": [
    "#renamed columns name to noise class and anzahDerO to english = number of floors\n",
    "houses_noise = houses_noise.rename(columns={'name': 'noiseclass', 'anzahlDerO': 'floors', 'grundflaec':'house_area'})"
   ]
  },
  {
   "cell_type": "code",
   "execution_count": null,
   "id": "18ba55e3",
   "metadata": {},
   "outputs": [],
   "source": [
    "# join the data frame to the admin_pop_reproj to be able to plot it later and get affected houses / district\n",
    "admin_noisestats = gpd.sjoin(admin_pop_reproj, houses_noise)"
   ]
  },
  {
   "cell_type": "code",
   "execution_count": null,
   "id": "671a474a",
   "metadata": {},
   "outputs": [],
   "source": [
    "#admin_noisestats.columns"
   ]
  },
  {
   "cell_type": "code",
   "execution_count": null,
   "id": "eb2f712f",
   "metadata": {},
   "outputs": [],
   "source": [
    "#gets the number of houses per noise class and district\n",
    "houses_noiseclass = admin_noisestats.groupby(['district', 'noiseclass'])['OBJECTID'].count().reset_index()\n",
    "houses_noiseclass.head()"
   ]
  },
  {
   "cell_type": "code",
   "execution_count": null,
   "id": "c725e9cc",
   "metadata": {},
   "outputs": [],
   "source": [
    "# mulitplies the number of houses with the house area \n",
    "admin_noisestats['total_area'] = admin_noisestats['OBJECTID'] * admin_noisestats['house_area']"
   ]
  },
  {
   "cell_type": "code",
   "execution_count": null,
   "id": "081a63ec",
   "metadata": {},
   "outputs": [],
   "source": [
    "# multiplies the house area with the number of floors to get the total affected residential housing area by noiseclass\n",
    "admin_noisestats['area_floors']=admin_noisestats['total_area']*admin_noisestats['floors'].astype(int)"
   ]
  },
  {
   "cell_type": "code",
   "execution_count": null,
   "id": "3a97913b",
   "metadata": {},
   "outputs": [],
   "source": [
    "#admin_noisestats['total_area_floors'].hist()\n",
    "admin_noisestats.head()"
   ]
  },
  {
   "cell_type": "code",
   "execution_count": null,
   "id": "266005de",
   "metadata": {},
   "outputs": [],
   "source": [
    "# make sure that noise class is an integer\n",
    "admin_noisestats['noiseclass'] = admin_noisestats['noiseclass'].astype(int)"
   ]
  },
  {
   "cell_type": "code",
   "execution_count": null,
   "id": "d48a2bfc",
   "metadata": {},
   "outputs": [],
   "source": [
    "#weights the areas by noise class in view of severity from low to high (increase by 0.5)\n",
    "weights = {0: 0.5, 1: 1, 2: 1.5, 3: 2, 4: 2.5}\n",
    "admin_noisestats['weighted_area'] = admin_noisestats['area_floors'] * admin_noisestats['noiseclass'].map(weights) # used the pandas.map function to assign the weights"
   ]
  },
  {
   "cell_type": "code",
   "execution_count": null,
   "id": "ac12c9bb",
   "metadata": {},
   "outputs": [],
   "source": [
    "#groups data set by district and weighted area\n",
    "admin_noisestats = admin_noisestats.groupby('district')['weighted_area'].sum().reset_index()\n",
    "#admin_noisestats['weighted_area'].hist()\n",
    "#admin_noisestats.head()"
   ]
  },
  {
   "cell_type": "code",
   "execution_count": null,
   "id": "d777d857",
   "metadata": {},
   "outputs": [],
   "source": [
    "#now classify according to percentiles\n"
   ]
  }
 ],
 "metadata": {
  "kernelspec": {
   "display_name": "Python 3 (ipykernel)",
   "language": "python",
   "name": "python3"
  },
  "language_info": {
   "codemirror_mode": {
    "name": "ipython",
    "version": 3
   },
   "file_extension": ".py",
   "mimetype": "text/x-python",
   "name": "python",
   "nbconvert_exporter": "python",
   "pygments_lexer": "ipython3",
   "version": "3.11.3"
  }
 },
 "nbformat": 4,
 "nbformat_minor": 5
}
