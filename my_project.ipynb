{
 "cells": [
  {
   "cell_type": "markdown",
   "id": "2952f082",
   "metadata": {},
   "source": [
    "## import libraries"
   ]
  },
  {
   "cell_type": "code",
   "execution_count": 1,
   "id": "45ba90cb",
   "metadata": {},
   "outputs": [],
   "source": [
    "import geopandas as gpd\n",
    "import matplotlib.pyplot as plt\n",
    "from mpl_toolkits.axes_grid1 import make_axes_locatable\n",
    "import matplotlib.patches as mpatches\n",
    "import cartopy.crs as ccrs\n",
    "import pandas as pd\n",
    "import geopandas as gpd\n",
    "from scipy.stats import zscore"
   ]
  },
  {
   "cell_type": "code",
   "execution_count": 2,
   "id": "340e4348",
   "metadata": {},
   "outputs": [
    {
     "data": {
      "text/plain": [
       "<contextlib.ExitStack at 0x1c5aee93f50>"
      ]
     },
     "execution_count": 2,
     "metadata": {},
     "output_type": "execute_result"
    }
   ],
   "source": [
    "#make plot interactive\n",
    "plt.ion()"
   ]
  },
  {
   "cell_type": "markdown",
   "id": "a0a3cb22",
   "metadata": {},
   "source": [
    "# 1)  Social Indicator"
   ]
  },
  {
   "cell_type": "markdown",
   "id": "587e525f",
   "metadata": {},
   "source": [
    "### Load & clean data "
   ]
  },
  {
   "cell_type": "code",
   "execution_count": 3,
   "id": "3688b3d4",
   "metadata": {},
   "outputs": [],
   "source": [
    "# load the necessary data here \n",
    "admin = gpd.read_file(\"C:/Users/charl/OneDrive/Desktop/ulster/EGM722_programming/git/egm722_project/data/Stadtteile_Hamburg.shp\")\n",
    "stats = pd.read_csv(\"C:/Users/charl/OneDrive/Desktop/ulster/EGM722_programming/git/egm722_project/data/statistics_HH21.csv\",encoding=\"utf-8\", delimiter=\";\",decimal=\".\" )\n",
    "#admin\n",
    "#print(stats.head())"
   ]
  },
  {
   "cell_type": "code",
   "execution_count": 4,
   "id": "f59743ce",
   "metadata": {},
   "outputs": [],
   "source": [
    "#rename columns\n",
    "stats.columns = ['district','inhabitants', 'pop<18','%<18', 'pop>65y','%>65', 'foreignResidents', 'migration_backg', 'hh','pp_size','hh_kids', '%hh_kids','areakm2', 'pop_density','working_pop', '%working_pop', 'unemployed','%unemployed','unemployed<18','%unemployed<18', 'unemployed>65', '%unemployed>65','social_benefits', '%social_benefits','social_housing', '%social_housing']\n",
    "#stats\n"
   ]
  },
  {
   "cell_type": "code",
   "execution_count": 5,
   "id": "4f9339e3",
   "metadata": {},
   "outputs": [],
   "source": [
    "#joined population data with shapefile of admin boundaries and dropped additional columns in the admin dataset\n",
    "admin_pop = pd.merge(admin,stats, left_on='stadtteil_', right_on='district', how = 'inner')\n",
    "\n",
    "admin_pop.drop(columns=['OBJECTID','bezirk', 'stadttei_1', 'stadttei_2','pp_size', '%<18', 'hh','foreignResidents', 'migration_backg','pop<18','hh_kids', '%hh_kids', 'pop>65y', 'unemployed<18', ],axis=1, inplace=True)\n",
    "\n",
    "#admin_pop\n",
    "#fig, ax = plt.subplots(figsize=(24, 18))\n",
    "#admin_pop.plot(ax=ax, alpha=1,linewidth=2, facecolor=\"none\")"
   ]
  },
  {
   "cell_type": "code",
   "execution_count": 6,
   "id": "9b02893f",
   "metadata": {},
   "outputs": [
    {
     "data": {
      "text/html": [
       "<div>\n",
       "<style scoped>\n",
       "    .dataframe tbody tr th:only-of-type {\n",
       "        vertical-align: middle;\n",
       "    }\n",
       "\n",
       "    .dataframe tbody tr th {\n",
       "        vertical-align: top;\n",
       "    }\n",
       "\n",
       "    .dataframe thead th {\n",
       "        text-align: right;\n",
       "    }\n",
       "</style>\n",
       "<table border=\"1\" class=\"dataframe\">\n",
       "  <thead>\n",
       "    <tr style=\"text-align: right;\">\n",
       "      <th></th>\n",
       "      <th>bezirk_nam</th>\n",
       "      <th>stadtteil_</th>\n",
       "      <th>SHAPE_Leng</th>\n",
       "      <th>SHAPE_Area</th>\n",
       "      <th>geometry</th>\n",
       "      <th>district</th>\n",
       "      <th>inhabitants</th>\n",
       "      <th>%&gt;65</th>\n",
       "      <th>areakm2</th>\n",
       "      <th>pop_density</th>\n",
       "      <th>...</th>\n",
       "      <th>%working_pop</th>\n",
       "      <th>unemployed</th>\n",
       "      <th>%unemployed</th>\n",
       "      <th>%unemployed&lt;18</th>\n",
       "      <th>unemployed&gt;65</th>\n",
       "      <th>%unemployed&gt;65</th>\n",
       "      <th>social_benefits</th>\n",
       "      <th>%social_benefits</th>\n",
       "      <th>social_housing</th>\n",
       "      <th>%social_housing</th>\n",
       "    </tr>\n",
       "  </thead>\n",
       "  <tbody>\n",
       "    <tr>\n",
       "      <th>0</th>\n",
       "      <td>Hamburg-Mitte</td>\n",
       "      <td>Hamburg-Altstadt</td>\n",
       "      <td>9028.180532</td>\n",
       "      <td>3.676562e+06</td>\n",
       "      <td>POLYGON ((1113865.821 7085107.333, 1113978.324...</td>\n",
       "      <td>Hamburg-Altstadt</td>\n",
       "      <td>2358</td>\n",
       "      <td>10.9</td>\n",
       "      <td>1.3</td>\n",
       "      <td>1.813.00</td>\n",
       "      <td>...</td>\n",
       "      <td>67.6</td>\n",
       "      <td>98</td>\n",
       "      <td>5.3</td>\n",
       "      <td>NaN</td>\n",
       "      <td>14</td>\n",
       "      <td>5.7</td>\n",
       "      <td>193</td>\n",
       "      <td>8.2</td>\n",
       "      <td>176</td>\n",
       "      <td>12.4</td>\n",
       "    </tr>\n",
       "    <tr>\n",
       "      <th>1</th>\n",
       "      <td>Hamburg-Mitte</td>\n",
       "      <td>HafenCity</td>\n",
       "      <td>13902.691334</td>\n",
       "      <td>6.860720e+06</td>\n",
       "      <td>POLYGON ((1113043.882 7082944.386, 1112901.932...</td>\n",
       "      <td>HafenCity</td>\n",
       "      <td>6302</td>\n",
       "      <td>9.5</td>\n",
       "      <td>2.4</td>\n",
       "      <td>2.598.00</td>\n",
       "      <td>...</td>\n",
       "      <td>61.1</td>\n",
       "      <td>144</td>\n",
       "      <td>3.1</td>\n",
       "      <td>NaN</td>\n",
       "      <td>14</td>\n",
       "      <td>2.7</td>\n",
       "      <td>309</td>\n",
       "      <td>4.9</td>\n",
       "      <td>799</td>\n",
       "      <td>24.9</td>\n",
       "    </tr>\n",
       "    <tr>\n",
       "      <th>2</th>\n",
       "      <td>Hamburg-Mitte</td>\n",
       "      <td>Neustadt</td>\n",
       "      <td>11133.923114</td>\n",
       "      <td>6.395226e+06</td>\n",
       "      <td>POLYGON ((1112508.476 7085835.161, 1112319.283...</td>\n",
       "      <td>Neustadt</td>\n",
       "      <td>12611</td>\n",
       "      <td>15.0</td>\n",
       "      <td>2.3</td>\n",
       "      <td>5.575.00</td>\n",
       "      <td>...</td>\n",
       "      <td>64.0</td>\n",
       "      <td>494</td>\n",
       "      <td>5.2</td>\n",
       "      <td>2.9</td>\n",
       "      <td>104</td>\n",
       "      <td>6.5</td>\n",
       "      <td>911</td>\n",
       "      <td>7.2</td>\n",
       "      <td>967</td>\n",
       "      <td>12.6</td>\n",
       "    </tr>\n",
       "    <tr>\n",
       "      <th>3</th>\n",
       "      <td>Hamburg-Mitte</td>\n",
       "      <td>St. Pauli</td>\n",
       "      <td>15968.675123</td>\n",
       "      <td>6.343533e+06</td>\n",
       "      <td>POLYGON ((1109116.549 7084327.397, 1109001.027...</td>\n",
       "      <td>St. Pauli</td>\n",
       "      <td>21803</td>\n",
       "      <td>10.3</td>\n",
       "      <td>2.2</td>\n",
       "      <td>9.723.00</td>\n",
       "      <td>...</td>\n",
       "      <td>57.0</td>\n",
       "      <td>1.330.00</td>\n",
       "      <td>7.8</td>\n",
       "      <td>3.4</td>\n",
       "      <td>282</td>\n",
       "      <td>10.7</td>\n",
       "      <td>2.708.00</td>\n",
       "      <td>12.4</td>\n",
       "      <td>1.485.00</td>\n",
       "      <td>11.7</td>\n",
       "    </tr>\n",
       "    <tr>\n",
       "      <th>4</th>\n",
       "      <td>Hamburg-Mitte</td>\n",
       "      <td>St. Georg</td>\n",
       "      <td>9795.650670</td>\n",
       "      <td>5.155061e+06</td>\n",
       "      <td>POLYGON ((1114563.830 7085359.663, 1114541.839...</td>\n",
       "      <td>St. Georg</td>\n",
       "      <td>11467</td>\n",
       "      <td>14.0</td>\n",
       "      <td>1.8</td>\n",
       "      <td>6.291.00</td>\n",
       "      <td>...</td>\n",
       "      <td>60.1</td>\n",
       "      <td>489</td>\n",
       "      <td>5.5</td>\n",
       "      <td>2.8</td>\n",
       "      <td>103</td>\n",
       "      <td>7.0</td>\n",
       "      <td>841</td>\n",
       "      <td>7.3</td>\n",
       "      <td>852</td>\n",
       "      <td>13.2</td>\n",
       "    </tr>\n",
       "  </tbody>\n",
       "</table>\n",
       "<p>5 rows × 21 columns</p>\n",
       "</div>"
      ],
      "text/plain": [
       "      bezirk_nam        stadtteil_    SHAPE_Leng    SHAPE_Area   \n",
       "0  Hamburg-Mitte  Hamburg-Altstadt   9028.180532  3.676562e+06  \\\n",
       "1  Hamburg-Mitte         HafenCity  13902.691334  6.860720e+06   \n",
       "2  Hamburg-Mitte          Neustadt  11133.923114  6.395226e+06   \n",
       "3  Hamburg-Mitte         St. Pauli  15968.675123  6.343533e+06   \n",
       "4  Hamburg-Mitte         St. Georg   9795.650670  5.155061e+06   \n",
       "\n",
       "                                            geometry          district   \n",
       "0  POLYGON ((1113865.821 7085107.333, 1113978.324...  Hamburg-Altstadt  \\\n",
       "1  POLYGON ((1113043.882 7082944.386, 1112901.932...         HafenCity   \n",
       "2  POLYGON ((1112508.476 7085835.161, 1112319.283...          Neustadt   \n",
       "3  POLYGON ((1109116.549 7084327.397, 1109001.027...         St. Pauli   \n",
       "4  POLYGON ((1114563.830 7085359.663, 1114541.839...         St. Georg   \n",
       "\n",
       "   inhabitants  %>65  areakm2 pop_density  ... %working_pop  unemployed   \n",
       "0         2358  10.9      1.3    1.813.00  ...         67.6          98  \\\n",
       "1         6302   9.5      2.4    2.598.00  ...         61.1         144   \n",
       "2        12611  15.0      2.3    5.575.00  ...         64.0         494   \n",
       "3        21803  10.3      2.2    9.723.00  ...         57.0    1.330.00   \n",
       "4        11467  14.0      1.8    6.291.00  ...         60.1         489   \n",
       "\n",
       "  %unemployed  %unemployed<18  unemployed>65 %unemployed>65  social_benefits   \n",
       "0         5.3             NaN             14            5.7              193  \\\n",
       "1         3.1             NaN             14            2.7              309   \n",
       "2         5.2             2.9            104            6.5              911   \n",
       "3         7.8             3.4            282           10.7         2.708.00   \n",
       "4         5.5             2.8            103            7.0              841   \n",
       "\n",
       "  %social_benefits  social_housing %social_housing  \n",
       "0              8.2             176            12.4  \n",
       "1              4.9             799            24.9  \n",
       "2              7.2             967            12.6  \n",
       "3             12.4        1.485.00            11.7  \n",
       "4              7.3             852            13.2  \n",
       "\n",
       "[5 rows x 21 columns]"
      ]
     },
     "execution_count": 6,
     "metadata": {},
     "output_type": "execute_result"
    }
   ],
   "source": [
    "# checks the number of null values and drops the null values in the colums used for calculation of social status\n",
    "admin_pop.isnull().mean() * 100\n",
    "admin_pop.dropna(subset=['%unemployed','%social_benefits','%social_housing','%unemployed>65' ], inplace=True)\n",
    "\n",
    "#admin_pop.dropna(inplace=True)\n",
    "#admin_pop.plot()\n",
    "admin_pop.head()"
   ]
  },
  {
   "cell_type": "code",
   "execution_count": 7,
   "id": "7f012b53",
   "metadata": {},
   "outputs": [
    {
     "data": {
      "text/plain": [
       "%unemployed          2.429636\n",
       "%social_benefits     6.941654\n",
       "%social_housing     10.981457\n",
       "%unemployed>65       2.461121\n",
       "dtype: float64"
      ]
     },
     "execution_count": 7,
     "metadata": {},
     "output_type": "execute_result"
    },
    {
     "data": {
      "image/png": "[encoded data removed]",
      "text/plain": [
       "<Figure size 640x480 with 4 Axes>"
      ]
     },
     "metadata": {},
     "output_type": "display_data"
    }
   ],
   "source": [
    "# this line of code first subsets the dataframe so that only numeric columns relevant to the further anylsis (social status) are maintained\n",
    "# code than checks standard deviation \n",
    "social_stats = admin_pop[['%unemployed','%social_benefits','%social_housing','%unemployed>65' ]]#std()\n",
    "\n",
    "social_stats.hist()\n",
    "social_stats.std()"
   ]
  },
  {
   "cell_type": "code",
   "execution_count": 8,
   "id": "d75512c7",
   "metadata": {},
   "outputs": [
    {
     "name": "stdout",
     "output_type": "stream",
     "text": [
      "%unemployed         1.005305\n",
      "%social_benefits    1.005305\n",
      "%social_housing     1.005305\n",
      "%unemployed>65      1.005305\n",
      "dtype: float64\n"
     ]
    }
   ],
   "source": [
    "# The scipy Library in Python is used to calculate the z-score which helps to standardize the values for each column \n",
    "\n",
    "z_scores_admin_pop = admin_pop[['%unemployed','%social_benefits','%social_housing','%unemployed>65']].apply(zscore)\n",
    "\n",
    "print(z_scores_admin_pop.std())"
   ]
  },
  {
   "cell_type": "code",
   "execution_count": 9,
   "id": "670f5b3f",
   "metadata": {},
   "outputs": [],
   "source": [
    "#z_scores_admin_pop"
   ]
  },
  {
   "cell_type": "markdown",
   "id": "8063e586",
   "metadata": {},
   "source": [
    "### Analysis"
   ]
  },
  {
   "cell_type": "code",
   "execution_count": 10,
   "id": "abb3fafb",
   "metadata": {},
   "outputs": [],
   "source": [
    "#groups / classifies the results into equal percentiles of the respective column (equal quantiles 0 -4 (e.g. 0= lowest 20th quantile of mean / to  - 4 within highest 20th quantile))\n",
    "#and saves the results to a new column. all the 4 indicators are equally weighted. no difference has been made\n",
    "z_scores_admin_pop['qt_soc_stats'] = pd.qcut(z_scores_admin_pop['%unemployed'] + z_scores_admin_pop['%social_benefits'] + z_scores_admin_pop['%social_housing'] + z_scores_admin_pop['%unemployed>65'], 5, labels=[0, 1, 2, 3, 4])\n"
   ]
  },
  {
   "cell_type": "code",
   "execution_count": null,
   "id": "b317679e",
   "metadata": {},
   "outputs": [],
   "source": []
  },
  {
   "cell_type": "code",
   "execution_count": 11,
   "id": "24f10abd",
   "metadata": {},
   "outputs": [],
   "source": [
    "#function to add a text column to the data frame based on the classification into percentiles (will be applied to the  different indicators)\n",
    "def add_status_column(df, zscore_mean_column):\n",
    "    df['status'] = ['very low' if x == 0 else  #creates the new column \"status and then adds text description to the corresponding value\"\n",
    "                   'low' if x == 1 else\n",
    "                   'medium' if x == 2 else\n",
    "                   'high' if x == 3 else\n",
    "                   'very high' for x in df[zscore_mean_column]]\n",
    "    \n",
    "add_status_column(z_scores_admin_pop, 'qt_soc_stats')\n"
   ]
  },
  {
   "cell_type": "code",
   "execution_count": 12,
   "id": "ae6a5989",
   "metadata": {},
   "outputs": [],
   "source": [
    "#apply function to add status column\n",
    "add_status_column(z_scores_admin_pop, 'qt_soc_stats')"
   ]
  },
  {
   "cell_type": "code",
   "execution_count": 13,
   "id": "88096940",
   "metadata": {},
   "outputs": [
    {
     "data": {
      "text/html": [
       "<div>\n",
       "<style scoped>\n",
       "    .dataframe tbody tr th:only-of-type {\n",
       "        vertical-align: middle;\n",
       "    }\n",
       "\n",
       "    .dataframe tbody tr th {\n",
       "        vertical-align: top;\n",
       "    }\n",
       "\n",
       "    .dataframe thead th {\n",
       "        text-align: right;\n",
       "    }\n",
       "</style>\n",
       "<table border=\"1\" class=\"dataframe\">\n",
       "  <thead>\n",
       "    <tr style=\"text-align: right;\">\n",
       "      <th></th>\n",
       "      <th>%unemployed</th>\n",
       "      <th>%social_benefits</th>\n",
       "      <th>%social_housing</th>\n",
       "      <th>%unemployed&gt;65</th>\n",
       "      <th>qt_soc_stats</th>\n",
       "      <th>status</th>\n",
       "    </tr>\n",
       "  </thead>\n",
       "  <tbody>\n",
       "    <tr>\n",
       "      <th>0</th>\n",
       "      <td>0.051394</td>\n",
       "      <td>-0.122718</td>\n",
       "      <td>0.355872</td>\n",
       "      <td>0.042137</td>\n",
       "      <td>3</td>\n",
       "      <td>high</td>\n",
       "    </tr>\n",
       "    <tr>\n",
       "      <th>1</th>\n",
       "      <td>-0.858895</td>\n",
       "      <td>-0.600631</td>\n",
       "      <td>1.500193</td>\n",
       "      <td>-1.183286</td>\n",
       "      <td>1</td>\n",
       "      <td>low</td>\n",
       "    </tr>\n",
       "    <tr>\n",
       "      <th>2</th>\n",
       "      <td>0.010018</td>\n",
       "      <td>-0.267540</td>\n",
       "      <td>0.374181</td>\n",
       "      <td>0.368917</td>\n",
       "      <td>3</td>\n",
       "      <td>high</td>\n",
       "    </tr>\n",
       "    <tr>\n",
       "      <th>3</th>\n",
       "      <td>1.085814</td>\n",
       "      <td>0.485535</td>\n",
       "      <td>0.291790</td>\n",
       "      <td>2.084510</td>\n",
       "      <td>4</td>\n",
       "      <td>very high</td>\n",
       "    </tr>\n",
       "    <tr>\n",
       "      <th>4</th>\n",
       "      <td>0.134148</td>\n",
       "      <td>-0.253058</td>\n",
       "      <td>0.429108</td>\n",
       "      <td>0.573154</td>\n",
       "      <td>3</td>\n",
       "      <td>high</td>\n",
       "    </tr>\n",
       "  </tbody>\n",
       "</table>\n",
       "</div>"
      ],
      "text/plain": [
       "   %unemployed  %social_benefits  %social_housing  %unemployed>65   \n",
       "0     0.051394         -0.122718         0.355872        0.042137  \\\n",
       "1    -0.858895         -0.600631         1.500193       -1.183286   \n",
       "2     0.010018         -0.267540         0.374181        0.368917   \n",
       "3     1.085814          0.485535         0.291790        2.084510   \n",
       "4     0.134148         -0.253058         0.429108        0.573154   \n",
       "\n",
       "  qt_soc_stats     status  \n",
       "0            3       high  \n",
       "1            1        low  \n",
       "2            3       high  \n",
       "3            4  very high  \n",
       "4            3       high  "
      ]
     },
     "execution_count": 13,
     "metadata": {},
     "output_type": "execute_result"
    }
   ],
   "source": [
    "z_scores_admin_pop.head()"
   ]
  },
  {
   "cell_type": "code",
   "execution_count": 14,
   "id": "8a84e34d",
   "metadata": {},
   "outputs": [
    {
     "data": {
      "text/html": [
       "<div>\n",
       "<style scoped>\n",
       "    .dataframe tbody tr th:only-of-type {\n",
       "        vertical-align: middle;\n",
       "    }\n",
       "\n",
       "    .dataframe tbody tr th {\n",
       "        vertical-align: top;\n",
       "    }\n",
       "\n",
       "    .dataframe thead th {\n",
       "        text-align: right;\n",
       "    }\n",
       "</style>\n",
       "<table border=\"1\" class=\"dataframe\">\n",
       "  <thead>\n",
       "    <tr style=\"text-align: right;\">\n",
       "      <th></th>\n",
       "      <th>bezirk_nam</th>\n",
       "      <th>stadtteil_</th>\n",
       "      <th>SHAPE_Leng</th>\n",
       "      <th>SHAPE_Area</th>\n",
       "      <th>geometry</th>\n",
       "      <th>district</th>\n",
       "      <th>inhabitants</th>\n",
       "      <th>%&gt;65</th>\n",
       "      <th>areakm2</th>\n",
       "      <th>pop_density</th>\n",
       "      <th>...</th>\n",
       "      <th>social_benefits</th>\n",
       "      <th>%social_benefits_x</th>\n",
       "      <th>social_housing</th>\n",
       "      <th>%social_housing_x</th>\n",
       "      <th>%unemployed_y</th>\n",
       "      <th>%social_benefits_y</th>\n",
       "      <th>%social_housing_y</th>\n",
       "      <th>%unemployed&gt;65_y</th>\n",
       "      <th>qt_soc_stats</th>\n",
       "      <th>status</th>\n",
       "    </tr>\n",
       "  </thead>\n",
       "  <tbody>\n",
       "    <tr>\n",
       "      <th>0</th>\n",
       "      <td>Hamburg-Mitte</td>\n",
       "      <td>Hamburg-Altstadt</td>\n",
       "      <td>9028.180532</td>\n",
       "      <td>3.676562e+06</td>\n",
       "      <td>POLYGON ((1113865.821 7085107.333, 1113978.324...</td>\n",
       "      <td>Hamburg-Altstadt</td>\n",
       "      <td>2358</td>\n",
       "      <td>10.9</td>\n",
       "      <td>1.3</td>\n",
       "      <td>1.813.00</td>\n",
       "      <td>...</td>\n",
       "      <td>193</td>\n",
       "      <td>8.2</td>\n",
       "      <td>176</td>\n",
       "      <td>12.4</td>\n",
       "      <td>0.051394</td>\n",
       "      <td>-0.122718</td>\n",
       "      <td>0.355872</td>\n",
       "      <td>0.042137</td>\n",
       "      <td>3</td>\n",
       "      <td>high</td>\n",
       "    </tr>\n",
       "    <tr>\n",
       "      <th>1</th>\n",
       "      <td>Hamburg-Mitte</td>\n",
       "      <td>HafenCity</td>\n",
       "      <td>13902.691334</td>\n",
       "      <td>6.860720e+06</td>\n",
       "      <td>POLYGON ((1113043.882 7082944.386, 1112901.932...</td>\n",
       "      <td>HafenCity</td>\n",
       "      <td>6302</td>\n",
       "      <td>9.5</td>\n",
       "      <td>2.4</td>\n",
       "      <td>2.598.00</td>\n",
       "      <td>...</td>\n",
       "      <td>309</td>\n",
       "      <td>4.9</td>\n",
       "      <td>799</td>\n",
       "      <td>24.9</td>\n",
       "      <td>-0.858895</td>\n",
       "      <td>-0.600631</td>\n",
       "      <td>1.500193</td>\n",
       "      <td>-1.183286</td>\n",
       "      <td>1</td>\n",
       "      <td>low</td>\n",
       "    </tr>\n",
       "    <tr>\n",
       "      <th>2</th>\n",
       "      <td>Hamburg-Mitte</td>\n",
       "      <td>Neustadt</td>\n",
       "      <td>11133.923114</td>\n",
       "      <td>6.395226e+06</td>\n",
       "      <td>POLYGON ((1112508.476 7085835.161, 1112319.283...</td>\n",
       "      <td>Neustadt</td>\n",
       "      <td>12611</td>\n",
       "      <td>15.0</td>\n",
       "      <td>2.3</td>\n",
       "      <td>5.575.00</td>\n",
       "      <td>...</td>\n",
       "      <td>911</td>\n",
       "      <td>7.2</td>\n",
       "      <td>967</td>\n",
       "      <td>12.6</td>\n",
       "      <td>0.010018</td>\n",
       "      <td>-0.267540</td>\n",
       "      <td>0.374181</td>\n",
       "      <td>0.368917</td>\n",
       "      <td>3</td>\n",
       "      <td>high</td>\n",
       "    </tr>\n",
       "    <tr>\n",
       "      <th>3</th>\n",
       "      <td>Hamburg-Mitte</td>\n",
       "      <td>St. Pauli</td>\n",
       "      <td>15968.675123</td>\n",
       "      <td>6.343533e+06</td>\n",
       "      <td>POLYGON ((1109116.549 7084327.397, 1109001.027...</td>\n",
       "      <td>St. Pauli</td>\n",
       "      <td>21803</td>\n",
       "      <td>10.3</td>\n",
       "      <td>2.2</td>\n",
       "      <td>9.723.00</td>\n",
       "      <td>...</td>\n",
       "      <td>2.708.00</td>\n",
       "      <td>12.4</td>\n",
       "      <td>1.485.00</td>\n",
       "      <td>11.7</td>\n",
       "      <td>1.085814</td>\n",
       "      <td>0.485535</td>\n",
       "      <td>0.291790</td>\n",
       "      <td>2.084510</td>\n",
       "      <td>4</td>\n",
       "      <td>very high</td>\n",
       "    </tr>\n",
       "    <tr>\n",
       "      <th>4</th>\n",
       "      <td>Hamburg-Mitte</td>\n",
       "      <td>St. Georg</td>\n",
       "      <td>9795.650670</td>\n",
       "      <td>5.155061e+06</td>\n",
       "      <td>POLYGON ((1114563.830 7085359.663, 1114541.839...</td>\n",
       "      <td>St. Georg</td>\n",
       "      <td>11467</td>\n",
       "      <td>14.0</td>\n",
       "      <td>1.8</td>\n",
       "      <td>6.291.00</td>\n",
       "      <td>...</td>\n",
       "      <td>841</td>\n",
       "      <td>7.3</td>\n",
       "      <td>852</td>\n",
       "      <td>13.2</td>\n",
       "      <td>0.134148</td>\n",
       "      <td>-0.253058</td>\n",
       "      <td>0.429108</td>\n",
       "      <td>0.573154</td>\n",
       "      <td>3</td>\n",
       "      <td>high</td>\n",
       "    </tr>\n",
       "  </tbody>\n",
       "</table>\n",
       "<p>5 rows × 27 columns</p>\n",
       "</div>"
      ],
      "text/plain": [
       "      bezirk_nam        stadtteil_    SHAPE_Leng    SHAPE_Area   \n",
       "0  Hamburg-Mitte  Hamburg-Altstadt   9028.180532  3.676562e+06  \\\n",
       "1  Hamburg-Mitte         HafenCity  13902.691334  6.860720e+06   \n",
       "2  Hamburg-Mitte          Neustadt  11133.923114  6.395226e+06   \n",
       "3  Hamburg-Mitte         St. Pauli  15968.675123  6.343533e+06   \n",
       "4  Hamburg-Mitte         St. Georg   9795.650670  5.155061e+06   \n",
       "\n",
       "                                            geometry          district   \n",
       "0  POLYGON ((1113865.821 7085107.333, 1113978.324...  Hamburg-Altstadt  \\\n",
       "1  POLYGON ((1113043.882 7082944.386, 1112901.932...         HafenCity   \n",
       "2  POLYGON ((1112508.476 7085835.161, 1112319.283...          Neustadt   \n",
       "3  POLYGON ((1109116.549 7084327.397, 1109001.027...         St. Pauli   \n",
       "4  POLYGON ((1114563.830 7085359.663, 1114541.839...         St. Georg   \n",
       "\n",
       "   inhabitants  %>65  areakm2 pop_density  ... social_benefits   \n",
       "0         2358  10.9      1.3    1.813.00  ...             193  \\\n",
       "1         6302   9.5      2.4    2.598.00  ...             309   \n",
       "2        12611  15.0      2.3    5.575.00  ...             911   \n",
       "3        21803  10.3      2.2    9.723.00  ...        2.708.00   \n",
       "4        11467  14.0      1.8    6.291.00  ...             841   \n",
       "\n",
       "   %social_benefits_x social_housing  %social_housing_x  %unemployed_y   \n",
       "0                 8.2            176               12.4       0.051394  \\\n",
       "1                 4.9            799               24.9      -0.858895   \n",
       "2                 7.2            967               12.6       0.010018   \n",
       "3                12.4       1.485.00               11.7       1.085814   \n",
       "4                 7.3            852               13.2       0.134148   \n",
       "\n",
       "  %social_benefits_y  %social_housing_y %unemployed>65_y  qt_soc_stats   \n",
       "0          -0.122718           0.355872         0.042137             3  \\\n",
       "1          -0.600631           1.500193        -1.183286             1   \n",
       "2          -0.267540           0.374181         0.368917             3   \n",
       "3           0.485535           0.291790         2.084510             4   \n",
       "4          -0.253058           0.429108         0.573154             3   \n",
       "\n",
       "      status  \n",
       "0       high  \n",
       "1        low  \n",
       "2       high  \n",
       "3  very high  \n",
       "4       high  \n",
       "\n",
       "[5 rows x 27 columns]"
      ]
     },
     "execution_count": 14,
     "metadata": {},
     "output_type": "execute_result"
    }
   ],
   "source": [
    "#merges the social statistics computed to the admin data frame to be able to plot the data later on\n",
    "admin_socstats = pd.merge(admin_pop, z_scores_admin_pop, left_index=True, right_index=True)\n",
    "admin_socstats.head()"
   ]
  },
  {
   "cell_type": "code",
   "execution_count": 15,
   "id": "733c9131",
   "metadata": {},
   "outputs": [],
   "source": [
    "#save the data frame as csv file\n",
    "#admin_socstats.to_csv(\"./output/social_stats.csv\")"
   ]
  },
  {
   "cell_type": "markdown",
   "id": "6680f29e",
   "metadata": {},
   "source": [
    "### VISUALIZATION"
   ]
  },
  {
   "cell_type": "code",
   "execution_count": 16,
   "id": "56bf3c70",
   "metadata": {},
   "outputs": [
    {
     "data": {
      "text/plain": [
       "<Axes: >"
      ]
     },
     "execution_count": 16,
     "metadata": {},
     "output_type": "execute_result"
    },
    {
     "data": {
      "image/png": "[encoded data removed]",
      "text/plain": [
       "<Figure size 640x480 with 1 Axes>"
      ]
     },
     "metadata": {},
     "output_type": "display_data"
    }
   ],
   "source": [
    "#plot output\n",
    "admin_socstats.plot(\"status\", cmap=\"Reds\", legend=True)  "
   ]
  },
  {
   "cell_type": "code",
   "execution_count": null,
   "id": "ef529349-a797-449b-85e4-eb4952f96cfd",
   "metadata": {},
   "outputs": [],
   "source": []
  },
  {
   "cell_type": "markdown",
   "id": "68f41edc",
   "metadata": {},
   "source": [
    "# 2) Environmental Indicators\n",
    "uses noise, green areas, surface temperature? as indicator)"
   ]
  },
  {
   "cell_type": "code",
   "execution_count": null,
   "id": "3c58faff-b462-4da8-9f4b-a08dee3c85f0",
   "metadata": {},
   "outputs": [],
   "source": [
    "#load the data\n",
    "noise = gpd.read_file(\"C:/Users/charl/OneDrive/Desktop/ulster/EGM722_programming/git/egm722_project/data/Laermkarten_HH_2018-11-19.shp\")\n",
    "buildings = gpd.read_file(\"C:/Users/charl/OneDrive/Desktop/ulster/EGM722_programming/git/egm722_project/data/Gebaeude_Hamburg.shp\")\n",
    "green_areas = gpd.read_file(\"C:/Users/charl/OneDrive/Desktop/ulster/EGM722_programming/git/egm722_project/data/Oeffentliche_Gruenanlage_Hamburg.shp\")"
   ]
  },
  {
   "cell_type": "code",
   "execution_count": null,
   "id": "14977c2e",
   "metadata": {},
   "outputs": [],
   "source": []
  },
  {
   "cell_type": "code",
   "execution_count": null,
   "id": "bdd4246d",
   "metadata": {},
   "outputs": [],
   "source": [
    "# function to checks crs of different layers and reproject to epgs:Hamburg, GE to prepare for joining later on EPSG:25832\n",
    "def reproject_to_local_epsg(gdf):\n",
    "    # Checks the CRS of the input GeoDataFrame\n",
    "    print('Original CRS:', gdf.crs)\n",
    "\n",
    "    # Reprojects the GeoDataFrame to EPSG 25832\n",
    "    gdf_reproj = gdf.to_crs(epsg=25832)\n",
    "\n",
    "    # Prints out the CRS of the output GeoDataFrame\n",
    "    print('Reprojected CRS:', gdf_reproj.crs)\n",
    "\n",
    "    return gdf_reproj\n",
    "\n",
    "# apply function all of data set to convert crs\n",
    "admin_pop_reproj = reproject_to_local_epsg(admin_pop)\n",
    "noise_reproj = reproject_to_local_epsg(noise)\n",
    "housing_reproj = reproject_to_local_epsg(buildings)\n",
    "green_areas_reproj = reproject_to_local_epsg(green_areas)\n"
   ]
  },
  {
   "cell_type": "markdown",
   "id": "68bf0cf7",
   "metadata": {},
   "source": [
    "## a) Green areas "
   ]
  },
  {
   "cell_type": "code",
   "execution_count": 19,
   "id": "d16df94c",
   "metadata": {},
   "outputs": [],
   "source": [
    "#green_areas_reproj.columns"
   ]
  },
  {
   "cell_type": "code",
   "execution_count": null,
   "id": "fc9dce03",
   "metadata": {},
   "outputs": [],
   "source": [
    "#for green areas delete the values with code 10 - playground according to ALKIS the official cadastre information system) key and drop some of the unimportant columns\n",
    "green_areas_reproj = green_areas_reproj[green_areas_reproj.nutzung != 10]\n",
    "\n",
    "#drop unimportant columns from the dataset\n",
    "green_areas_reproj.drop(columns=['veroeffent', 'nutzung', 'nutz_code' ,'herrichtun', 'gesamtanla','aktualitae','idnr','belegenh_1','belegenhei','quelle_dat', 'stand'],axis=1, inplace=True)\n",
    "\n",
    "green_areas_reproj.head()"
   ]
  },
  {
   "cell_type": "code",
   "execution_count": 21,
   "id": "b0dc7abe",
   "metadata": {},
   "outputs": [],
   "source": [
    "#green_areas_reproj.plot()"
   ]
  },
  {
   "cell_type": "markdown",
   "id": "d4a0d018",
   "metadata": {},
   "source": [
    "#### Calculation of statistics of green areas at district level"
   ]
  },
  {
   "cell_type": "code",
   "execution_count": null,
   "id": "a0cee766",
   "metadata": {},
   "outputs": [],
   "source": [
    "# Calculates the sum of the area  statistics for the green areas per district (district = stadtteil)\n",
    "green_area_sum = green_areas_reproj.groupby(['stadtteil'])['flaeche_ha'].sum().reset_index()\n",
    "green_area_sum.rename(columns={'flaeche_ha': 'green_area_total_ha'}, inplace=True)\n",
    "\n",
    "# Calculates mean green space area per district\n",
    "green_area_mean = green_areas_reproj.groupby(['stadtteil'])['flaeche_ha'].mean().reset_index()\n",
    "green_area_mean.rename(columns={'flaeche_ha': 'green_area_mean_ha'}, inplace=True)\n",
    "\n",
    "# Calculates the count of green spaces per district=  bennenung = unique name of green area\n",
    "green_space_count = green_areas_reproj.groupby(['stadtteil'])['benennung'].count().reset_index()\n",
    "green_space_count.rename(columns={'benennung': 'green_space_count'}, inplace=True)\n",
    "\n",
    "# Combines the statistics into one data frame\n",
    "green_stats = pd.merge(green_area_sum, green_area_mean, on='stadtteil')\n",
    "green_stats = pd.merge(green_stats, green_space_count, on='stadtteil')\n"
   ]
  },
  {
   "cell_type": "code",
   "execution_count": null,
   "id": "94c4b2e8",
   "metadata": {},
   "outputs": [],
   "source": [
    "# Calculates the percentage of green space from total area of the district\n",
    "green_stats['perc_green_area'] = green_areas_reproj['flaeche_ha'] / green_areas_reproj['geometry'].area * 100\n",
    "green_stats.head()"
   ]
  },
  {
   "cell_type": "code",
   "execution_count": null,
   "id": "68f87e8b",
   "metadata": {},
   "outputs": [],
   "source": [
    "# Finally calculates the area per inhabitant by using the column inhabitants from the admin_pop_reproj dataframe\n",
    "# add the column to the green_stats data frame\n",
    "green_stats = green_stats.merge(admin_pop_reproj[['stadtteil_', 'inhabitants']], left_on='stadtteil', right_on='stadtteil_', how='left')\n",
    "green_stats.drop('stadtteil_', axis=1, inplace=True)"
   ]
  },
  {
   "cell_type": "code",
   "execution_count": null,
   "id": "d686cdc9",
   "metadata": {},
   "outputs": [],
   "source": [
    "#calculate area / inhabitants \n",
    "green_stats['area_per_inhbt'] = green_stats['inhabitants'] / green_stats['green_area_total_ha']\n",
    "green_stats.head()"
   ]
  },
  {
   "cell_type": "code",
   "execution_count": 26,
   "id": "1ee1441c",
   "metadata": {},
   "outputs": [],
   "source": [
    "#check std of relevant values\n",
    "#green_stats = green_stats[['area_per_inhbt','perc_green_area' ]].std()\n",
    "#green_stats.std()"
   ]
  },
  {
   "cell_type": "code",
   "execution_count": null,
   "id": "29300679",
   "metadata": {},
   "outputs": [],
   "source": [
    "#groups / classifies the results into equal percentiles of the respective column (equal quantiles 0 -4 (e.g. 0= lowest 20th quantile of mean / to  - 4 within highest 20th quantile))\n",
    "#and saves the results to a new column\n",
    "green_stats['qt_stats_area_inhbt'] = pd.qcut(green_stats ['area_per_inhbt'],5,labels=[0, 1, 2, 3, 4])\n"
   ]
  },
  {
   "cell_type": "code",
   "execution_count": 29,
   "id": "c2bc47db",
   "metadata": {},
   "outputs": [
    {
     "data": {
      "text/html": [
       "<div>\n",
       "<style scoped>\n",
       "    .dataframe tbody tr th:only-of-type {\n",
       "        vertical-align: middle;\n",
       "    }\n",
       "\n",
       "    .dataframe tbody tr th {\n",
       "        vertical-align: top;\n",
       "    }\n",
       "\n",
       "    .dataframe thead th {\n",
       "        text-align: right;\n",
       "    }\n",
       "</style>\n",
       "<table border=\"1\" class=\"dataframe\">\n",
       "  <thead>\n",
       "    <tr style=\"text-align: right;\">\n",
       "      <th></th>\n",
       "      <th>stadtteil</th>\n",
       "      <th>green_area_total_ha</th>\n",
       "      <th>green_area_mean_ha</th>\n",
       "      <th>green_space_count</th>\n",
       "      <th>perc_green_area</th>\n",
       "      <th>inhabitants</th>\n",
       "      <th>area_per_inhbt</th>\n",
       "      <th>qt_stats_area_inhbt</th>\n",
       "      <th>status</th>\n",
       "    </tr>\n",
       "  </thead>\n",
       "  <tbody>\n",
       "    <tr>\n",
       "      <th>0</th>\n",
       "      <td>Allermöhe</td>\n",
       "      <td>41.4007</td>\n",
       "      <td>3.450058</td>\n",
       "      <td>7</td>\n",
       "      <td>0.010000</td>\n",
       "      <td>1441.0</td>\n",
       "      <td>34.806175</td>\n",
       "      <td>0</td>\n",
       "      <td>very low</td>\n",
       "    </tr>\n",
       "    <tr>\n",
       "      <th>1</th>\n",
       "      <td>Alsterdorf</td>\n",
       "      <td>13.6286</td>\n",
       "      <td>0.592548</td>\n",
       "      <td>6</td>\n",
       "      <td>0.010001</td>\n",
       "      <td>14975.0</td>\n",
       "      <td>1098.792246</td>\n",
       "      <td>3</td>\n",
       "      <td>high</td>\n",
       "    </tr>\n",
       "    <tr>\n",
       "      <th>2</th>\n",
       "      <td>Altengamme</td>\n",
       "      <td>0.2130</td>\n",
       "      <td>0.213000</td>\n",
       "      <td>0</td>\n",
       "      <td>0.010002</td>\n",
       "      <td>2319.0</td>\n",
       "      <td>10887.323944</td>\n",
       "      <td>4</td>\n",
       "      <td>very high</td>\n",
       "    </tr>\n",
       "    <tr>\n",
       "      <th>3</th>\n",
       "      <td>Altona-Altstadt</td>\n",
       "      <td>28.3002</td>\n",
       "      <td>0.496495</td>\n",
       "      <td>37</td>\n",
       "      <td>0.009993</td>\n",
       "      <td>29151.0</td>\n",
       "      <td>1030.063392</td>\n",
       "      <td>3</td>\n",
       "      <td>high</td>\n",
       "    </tr>\n",
       "    <tr>\n",
       "      <th>4</th>\n",
       "      <td>Altona-Nord</td>\n",
       "      <td>8.0044</td>\n",
       "      <td>0.470847</td>\n",
       "      <td>1</td>\n",
       "      <td>0.010012</td>\n",
       "      <td>25942.0</td>\n",
       "      <td>3240.967468</td>\n",
       "      <td>4</td>\n",
       "      <td>very high</td>\n",
       "    </tr>\n",
       "  </tbody>\n",
       "</table>\n",
       "</div>"
      ],
      "text/plain": [
       "         stadtteil  green_area_total_ha  green_area_mean_ha   \n",
       "0        Allermöhe              41.4007            3.450058  \\\n",
       "1       Alsterdorf              13.6286            0.592548   \n",
       "2       Altengamme               0.2130            0.213000   \n",
       "3  Altona-Altstadt              28.3002            0.496495   \n",
       "4      Altona-Nord               8.0044            0.470847   \n",
       "\n",
       "   green_space_count  perc_green_area  inhabitants  area_per_inhbt   \n",
       "0                  7         0.010000       1441.0       34.806175  \\\n",
       "1                  6         0.010001      14975.0     1098.792246   \n",
       "2                  0         0.010002       2319.0    10887.323944   \n",
       "3                 37         0.009993      29151.0     1030.063392   \n",
       "4                  1         0.010012      25942.0     3240.967468   \n",
       "\n",
       "  qt_stats_area_inhbt     status  \n",
       "0                   0   very low  \n",
       "1                   3       high  \n",
       "2                   4  very high  \n",
       "3                   3       high  \n",
       "4                   4  very high  "
      ]
     },
     "execution_count": 29,
     "metadata": {},
     "output_type": "execute_result"
    }
   ],
   "source": [
    "# apply the add column function defined earlier\n",
    "add_status_column(green_stats, 'qt_stats_area_inhbt')\n",
    "green_stats.head()"
   ]
  },
  {
   "cell_type": "code",
   "execution_count": 30,
   "id": "23fe335a",
   "metadata": {},
   "outputs": [],
   "source": [
    "#save green stats to csv file\n"
   ]
  },
  {
   "cell_type": "code",
   "execution_count": null,
   "id": "577694b9",
   "metadata": {},
   "outputs": [],
   "source": [
    "#merges the green statistics computed to the reprojected admin data frame to be able to plot the data later on\n",
    "admin_greenstats = pd.merge(admin_pop_reproj, green_stats, left_index=True, right_index=True)\n",
    "admin_greenstats.head()"
   ]
  },
  {
   "cell_type": "markdown",
   "id": "0b8586b5",
   "metadata": {},
   "source": [
    "### Quick Visualization green areas"
   ]
  },
  {
   "cell_type": "code",
   "execution_count": null,
   "id": "b1bbb527",
   "metadata": {},
   "outputs": [],
   "source": [
    "#plot output\n",
    "admin_greenstats.plot(\"status\", cmap=\"Greens\", legend=True)  "
   ]
  },
  {
   "cell_type": "markdown",
   "id": "9aa63ca2",
   "metadata": {},
   "source": [
    "# b) Noise"
   ]
  },
  {
   "cell_type": "code",
   "execution_count": 33,
   "id": "3173c41a",
   "metadata": {},
   "outputs": [],
   "source": [
    "#for the noise indicator. the assessment aims to identify houses affected by noise and class "
   ]
  },
  {
   "cell_type": "code",
   "execution_count": 34,
   "id": "75003ad9",
   "metadata": {},
   "outputs": [],
   "source": [
    "#housing_reproj.columns"
   ]
  },
  {
   "cell_type": "code",
   "execution_count": null,
   "id": "d7c41b77",
   "metadata": {},
   "outputs": [],
   "source": [
    "#checks data type of column gebaeudefu which indicates usage of houses (e.g. commercial, resnidential) and than changes it  to integer and drops unimportant columns in the data frame\n",
    "housing_reproj['gebaeudefu'] = housing_reproj['gebaeudefu'].astype(int)\n",
    "\n",
    "#print(housing_reproj['gebaeudefu'].dtype)\n",
    "housing_reproj.drop(columns=['anzahlDerU', 'lageZurErd', 'dachart', 'SHAPE_Leng'],axis=1, inplace=True)\n"
   ]
  },
  {
   "cell_type": "code",
   "execution_count": null,
   "id": "e81c571e",
   "metadata": {},
   "outputs": [],
   "source": [
    "# filter out any non-residential housing from data set according to ALKIS Key (1000 and 1010 )\n",
    "housing_reproj = housing_reproj[(housing_reproj['gebaeudefu'] == 1010) | (housing_reproj['gebaeudefu'] == 1000)]#housing_reproj.head()"
   ]
  },
  {
   "cell_type": "code",
   "execution_count": null,
   "id": "8d845c83",
   "metadata": {
    "scrolled": true
   },
   "outputs": [],
   "source": [
    "###checks out the noise data setwhich is a classified shapefile:  name here stands for severity of noise from 0 low to 4 highest\n",
    "noise_reproj.head()  "
   ]
  },
  {
   "cell_type": "code",
   "execution_count": null,
   "id": "5c2fd44d",
   "metadata": {},
   "outputs": [],
   "source": [
    "# the code uses the geopandas overlay method and interesect operation to determine where the noise layer intersects with the house layer to determine the houses affectected by noise\n",
    "houses_noise = gpd.overlay(housing_reproj, noise_reproj, how='intersection')\n",
    "#houses_noise.head()"
   ]
  },
  {
   "cell_type": "code",
   "execution_count": null,
   "id": "3908255e",
   "metadata": {},
   "outputs": [],
   "source": [
    "#renamed columns name to noise class and anzahDerO to english = number of floors\n",
    "houses_noise = houses_noise.rename(columns={'name': 'noiseclass', 'anzahlDerO': 'floors', 'grundflaec':'house_area'})"
   ]
  },
  {
   "cell_type": "code",
   "execution_count": 168,
   "id": "18ba55e3",
   "metadata": {},
   "outputs": [],
   "source": [
    "# join the data frame to the admin_pop_reproj to be able to plot it later and get affected houses / district\n",
    "admin_noisestats = gpd.sjoin(admin_pop_reproj, houses_noise)"
   ]
  },
  {
   "cell_type": "code",
   "execution_count": null,
   "id": "0a96bd78",
   "metadata": {},
   "outputs": [],
   "source": [
    "#admin_noisestats.columns"
   ]
  },
  {
   "cell_type": "code",
   "execution_count": null,
   "id": "f14dabcc",
   "metadata": {},
   "outputs": [],
   "source": [
    "#gets the number of houses per noise class and district\n",
    "houses_noiseclass = admin_noisestats.groupby(['district', 'noiseclass'])['OBJECTID'].count().reset_index()\n",
    "houses_noiseclass.head()"
   ]
  },
  {
   "cell_type": "code",
   "execution_count": 171,
   "id": "18c4a83a",
   "metadata": {},
   "outputs": [],
   "source": [
    "# mulitplies the number of houses with the house area \n",
    "admin_noisestats['total_area'] = admin_noisestats['OBJECTID'] * admin_noisestats['house_area']"
   ]
  },
  {
   "cell_type": "code",
   "execution_count": 191,
   "id": "4da88117",
   "metadata": {},
   "outputs": [],
   "source": [
    "# multiplies the house area with the number of floors to get the total affected residential housing area by noiseclass\n",
    "admin_noisestats['area_floors']=admin_noisestats['total_area']*admin_noisestats['floors'].astype(int)"
   ]
  },
  {
   "cell_type": "code",
   "execution_count": null,
   "id": "2ba93a1b",
   "metadata": {},
   "outputs": [],
   "source": [
    "#admin_noisestats['total_area_floors'].hist()\n",
    "admin_noisestats.head()"
   ]
  },
  {
   "cell_type": "code",
   "execution_count": 224,
   "id": "64552ec6",
   "metadata": {},
   "outputs": [],
   "source": [
    "# make sure that noise class is an integer\n",
    "admin_noisestats['noiseclass'] = admin_noisestats['noiseclass'].astype(int)"
   ]
  },
  {
   "cell_type": "code",
   "execution_count": 229,
   "id": "d8c442e6",
   "metadata": {},
   "outputs": [],
   "source": [
    "#weights the areas by noise class in view of severity from low to high \n",
    "weights = {0: 1, 1: 1.5, 2: 2, 3: 2.5, 4: 3}\n",
    "admin_noisestats['weighted_area'] = admin_noisestats['area_floors'] * admin_noisestats['noiseclass'].map(weights) # used the pandas.map function to assign the weights"
   ]
  },
  {
   "cell_type": "code",
   "execution_count": 236,
   "id": "d4179896",
   "metadata": {},
   "outputs": [
    {
     "data": {
      "text/html": [
       "<div>\n",
       "<style scoped>\n",
       "    .dataframe tbody tr th:only-of-type {\n",
       "        vertical-align: middle;\n",
       "    }\n",
       "\n",
       "    .dataframe tbody tr th {\n",
       "        vertical-align: top;\n",
       "    }\n",
       "\n",
       "    .dataframe thead th {\n",
       "        text-align: right;\n",
       "    }\n",
       "</style>\n",
       "<table border=\"1\" class=\"dataframe\">\n",
       "  <thead>\n",
       "    <tr style=\"text-align: right;\">\n",
       "      <th></th>\n",
       "      <th>district</th>\n",
       "      <th>weighted_area</th>\n",
       "    </tr>\n",
       "  </thead>\n",
       "  <tbody>\n",
       "    <tr>\n",
       "      <th>0</th>\n",
       "      <td>Allermöhe</td>\n",
       "      <td>8.375514e+09</td>\n",
       "    </tr>\n",
       "    <tr>\n",
       "      <th>1</th>\n",
       "      <td>Alsterdorf</td>\n",
       "      <td>7.882582e+11</td>\n",
       "    </tr>\n",
       "    <tr>\n",
       "      <th>2</th>\n",
       "      <td>Altengamme</td>\n",
       "      <td>4.693278e+09</td>\n",
       "    </tr>\n",
       "    <tr>\n",
       "      <th>3</th>\n",
       "      <td>Altona-Altstadt</td>\n",
       "      <td>3.418078e+11</td>\n",
       "    </tr>\n",
       "    <tr>\n",
       "      <th>4</th>\n",
       "      <td>Altona-Nord</td>\n",
       "      <td>4.503477e+11</td>\n",
       "    </tr>\n",
       "  </tbody>\n",
       "</table>\n",
       "</div>"
      ],
      "text/plain": [
       "          district  weighted_area\n",
       "0        Allermöhe   8.375514e+09\n",
       "1       Alsterdorf   7.882582e+11\n",
       "2       Altengamme   4.693278e+09\n",
       "3  Altona-Altstadt   3.418078e+11\n",
       "4      Altona-Nord   4.503477e+11"
      ]
     },
     "execution_count": 236,
     "metadata": {},
     "output_type": "execute_result"
    }
   ],
   "source": [
    "#groups data set by district and weighted area\n",
    "#admin_noisestats = admin_noisestats.groupby('district')['weighted_area'].sum().reset_index()\n",
    "#admin_noisestats['weighted_area'].hist()\n",
    "#admin_noisestats.head()"
   ]
  },
  {
   "cell_type": "code",
   "execution_count": null,
   "id": "368d6510",
   "metadata": {},
   "outputs": [],
   "source": []
  }
 ],
 "metadata": {
  "kernelspec": {
   "display_name": "Python 3 (ipykernel)",
   "language": "python",
   "name": "python3"
  },
  "language_info": {
   "codemirror_mode": {
    "name": "ipython",
    "version": 3
   },
   "file_extension": ".py",
   "mimetype": "text/x-python",
   "name": "python",
   "nbconvert_exporter": "python",
   "pygments_lexer": "ipython3",
   "version": "3.11.3"
  }
 },
 "nbformat": 4,
 "nbformat_minor": 5
}
